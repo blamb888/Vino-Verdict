{
 "cells": [
  {
   "cell_type": "markdown",
   "metadata": {},
   "source": [
    "1. Split the data into train and test sets"
   ]
  },
  {
   "cell_type": "code",
   "execution_count": null,
   "metadata": {},
   "outputs": [],
   "source": [
    "import pandas as pd\n",
    "from sklearn.model_selection import train_test_split\n",
    "\n",
    "# Load the provided CSV file into a dataframe\n",
    "wine_df = pd.read_csv('/mnt/data/cleaned_wine_df.csv')\n",
    "\n",
    "# Check for the presence of 'points_category' column\n",
    "if 'points_category' not in wine_df.columns:\n",
    "    # Create 'points_category' column if it doesn't exist\n",
    "    wine_df['points_category'] = wine_df['points'].apply(lambda x: 'not-so-highly rated' if 80 <= x <= 89 else 'highly rated')\n",
    "\n",
    "# Split the data into training, validation, and test sets\n",
    "train_df, temp_df = train_test_split(wine_df, test_size=0.2, random_state=42, stratify=wine_df['points_category'])\n",
    "val_df, test_df = train_test_split(temp_df, test_size=0.5, random_state=42, stratify=temp_df['points_category'])\n",
    "\n",
    "train_df.shape, val_df.shape, test_df.shape"
   ]
  },
  {
   "cell_type": "markdown",
   "metadata": {},
   "source": [
    "2. Tokenize the data using the tokenizer provided by the model"
   ]
  },
  {
   "cell_type": "code",
   "execution_count": null,
   "metadata": {},
   "outputs": [],
   "source": [
    "from transformers import AutoTokenizer, AutoModelForSequenceClassification\n",
    "\n",
    "# Load the tokenizer\n",
    "tokenizer = AutoTokenizer.from_pretrained(\"nlptown/bert-base-multilingual-uncased-sentiment\")\n",
    "\n",
    "# Tokenize the descriptions from the train, validation, and test sets\n",
    "train_encodings = tokenizer(list(train_df['description']), truncation=True, padding=True, max_length=128, return_tensors='pt')\n",
    "val_encodings = tokenizer(list(val_df['description']), truncation=True, padding=True, max_length=128, return_tensors='pt')\n",
    "test_encodings = tokenizer(list(test_df['description']), truncation=True, padding=True, max_length=128, return_tensors='pt')\n",
    "\n",
    "train_encodings.keys()  # Display the keys to check the tokenization results"
   ]
  },
  {
   "cell_type": "markdown",
   "metadata": {},
   "source": [
    "3. Create Pytorch Dataset and Dataloader"
   ]
  },
  {
   "cell_type": "code",
   "execution_count": null,
   "metadata": {},
   "outputs": [],
   "source": [
    "train_labels = (train_df['points'] > 3).long().to_numpy()\n",
    "val_labels = (val_df['points'] > 3).long().to_numpy()\n",
    "test_labels = (test_df['points'] > 3).long().to_numpy()\n",
    "\n",
    "train_dataset = torch.utils.data.TensorDataset(train_encodings['input_ids'], train_encodings['attention_mask'], train_labels)\n",
    "val_dataset = torch.utils.data.TensorDataset(val_encodings['input_ids'], val_encodings['attention_mask'], val_labels)\n",
    "test_dataset = torch.utils.data.TensorDataset(test_encodings['input_ids'], test_encodings['attention_mask'], test_labels)"
   ]
  },
  {
   "cell_type": "markdown",
   "metadata": {},
   "source": [
    "Model Setup and Fine-tuning Guide:\n",
    "1. Initialize the BERT model for binary classification:"
   ]
  },
  {
   "cell_type": "code",
   "execution_count": null,
   "metadata": {},
   "outputs": [],
   "source": [
    "from transformers import BertForSequenceClassification\n",
    "\n",
    "# Load the BERT model for binary classification\n",
    "model = BertForSequenceClassification.from_pretrained(\n",
    "    'nlptown/bert-base-multilingual-uncased-sentiment', \n",
    "    num_labels=2  # For binary classification\n",
    ")\n",
    "model = model.to(device)"
   ]
  },
  {
   "cell_type": "markdown",
   "metadata": {},
   "source": [
    "2. Define the Loss Function, Optimizer, and DataLoader:"
   ]
  },
  {
   "cell_type": "code",
   "execution_count": null,
   "metadata": {},
   "outputs": [],
   "source": [
    "import torch.nn as nn\n",
    "from torch.utils.data import DataLoader\n",
    "from transformers import AdamW\n",
    "\n",
    "# Use BCEWithLogitsLoss for binary classification with logits (includes sigmoid activation)\n",
    "loss_function = nn.BCEWithLogitsLoss()\n",
    "\n",
    "# Optimizer\n",
    "optimizer = AdamW(model.parameters(), lr=2e-5)\n",
    "\n",
    "# DataLoader\n",
    "train_loader = DataLoader(train_dataset, shuffle=True, batch_size=16)\n",
    "val_loader = DataLoader(val_dataset, batch_size=16)\n"
   ]
  },
  {
   "cell_type": "markdown",
   "metadata": {},
   "source": [
    "3. Training Loop:\n"
   ]
  },
  {
   "cell_type": "code",
   "execution_count": null,
   "metadata": {},
   "outputs": [],
   "source": [
    "epochs = 3\n",
    "\n",
    "for epoch in range(epochs):\n",
    "    model.train()\n",
    "    \n",
    "    for batch in train_loader:\n",
    "        optimizer.zero_grad()\n",
    "        input_ids, attention_mask, labels = tuple(t.to(device) for t in batch)\n",
    "        \n",
    "        outputs = model(input_ids, attention_mask=attention_mask)\n",
    "        \n",
    "        loss = loss_function(outputs.logits, labels.float().unsqueeze(-1))\n",
    "        loss.backward()\n",
    "        optimizer.step()\n",
    "    \n",
    "    # Validation at the end of each epoch\n",
    "    model.eval()\n",
    "    val_loss = 0\n",
    "    predictions, true_vals = [], []\n",
    "    \n",
    "    with torch.no_grad():\n",
    "        for batch in val_loader:\n",
    "            input_ids, attention_mask, labels = tuple(t.to(device) for t in batch)\n",
    "            outputs = model(input_ids, attention_mask=attention_mask)\n",
    "            \n",
    "            val_loss += loss_function(outputs.logits, labels.float().unsqueeze(-1)).item()\n",
    "            \n",
    "            # Get binary predictions\n",
    "            batch_predictions = torch.sigmoid(outputs.logits) > 0.5\n",
    "            predictions.extend(batch_predictions.cpu().numpy())\n",
    "            true_vals.extend(labels.cpu().numpy())\n",
    "    \n",
    "    # Print validation results (you can also compute other metrics like accuracy, F1 score, etc.)\n",
    "    print(f\"Epoch {epoch+1}/{epochs} - Validation Loss: {val_loss/len(val_loader)}\")\n"
   ]
  },
  {
   "cell_type": "markdown",
   "metadata": {},
   "source": [
    "4. Evaluation:\n",
    "After training is complete, use the test dataset to evaluate the model's performance."
   ]
  },
  {
   "cell_type": "code",
   "execution_count": null,
   "metadata": {},
   "outputs": [],
   "source": [
    "test_loader = DataLoader(test_dataset, batch_size=16)\n",
    "model.eval()\n",
    "test_predictions, test_true_vals = [], []\n",
    "\n",
    "with torch.no_grad():\n",
    "    for batch in test_loader:\n",
    "        input_ids, attention_mask, labels = tuple(t.to(device) for t in batch)\n",
    "        outputs = model(input_ids, attention_mask=attention_mask)\n",
    "        \n",
    "        # Get binary predictions\n",
    "        batch_predictions = torch.sigmoid(outputs.logits) > 0.5\n",
    "        test_predictions.extend(batch_predictions.cpu().numpy())\n",
    "        test_true_vals.extend(labels.cpu().numpy())\n",
    "\n",
    "# Compute evaluation metrics (e.g., accuracy, F1 score) using test_predictions and test_true_vals\n"
   ]
  },
  {
   "cell_type": "code",
   "execution_count": null,
   "metadata": {},
   "outputs": [],
   "source": []
  }
 ],
 "metadata": {
  "kernelspec": {
   "display_name": "vino_verdict",
   "language": "python",
   "name": "python3"
  },
  "language_info": {
   "codemirror_mode": {
    "name": "ipython",
    "version": 3
   },
   "file_extension": ".py",
   "mimetype": "text/x-python",
   "name": "python",
   "nbconvert_exporter": "python",
   "pygments_lexer": "ipython3",
   "version": "3.10.6"
  },
  "orig_nbformat": 4
 },
 "nbformat": 4,
 "nbformat_minor": 2
}
