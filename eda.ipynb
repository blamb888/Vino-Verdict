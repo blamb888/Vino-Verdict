{
 "cells": [
  {
   "cell_type": "code",
   "execution_count": 1,
   "metadata": {},
   "outputs": [],
   "source": [
    "# Data Manipulation\n",
    "import pandas as pd\n",
    "import numpy as np\n",
    "# Data Visualization\n",
    "import matplotlib.pyplot as plt\n",
    "import seaborn as sns"
   ]
  },
  {
   "cell_type": "code",
   "execution_count": 2,
   "metadata": {},
   "outputs": [
    {
     "data": {
      "text/html": [
       "<div>\n",
       "<style scoped>\n",
       "    .dataframe tbody tr th:only-of-type {\n",
       "        vertical-align: middle;\n",
       "    }\n",
       "\n",
       "    .dataframe tbody tr th {\n",
       "        vertical-align: top;\n",
       "    }\n",
       "\n",
       "    .dataframe thead th {\n",
       "        text-align: right;\n",
       "    }\n",
       "</style>\n",
       "<table border=\"1\" class=\"dataframe\">\n",
       "  <thead>\n",
       "    <tr style=\"text-align: right;\">\n",
       "      <th></th>\n",
       "      <th>Unnamed: 0</th>\n",
       "      <th>country</th>\n",
       "      <th>description</th>\n",
       "      <th>designation</th>\n",
       "      <th>points</th>\n",
       "      <th>price</th>\n",
       "      <th>province</th>\n",
       "      <th>region_1</th>\n",
       "      <th>region_2</th>\n",
       "      <th>taster_name</th>\n",
       "      <th>taster_twitter_handle</th>\n",
       "      <th>title</th>\n",
       "      <th>variety</th>\n",
       "      <th>winery</th>\n",
       "    </tr>\n",
       "  </thead>\n",
       "  <tbody>\n",
       "    <tr>\n",
       "      <th>0</th>\n",
       "      <td>0</td>\n",
       "      <td>Italy</td>\n",
       "      <td>Aromas include tropical fruit, broom, brimston...</td>\n",
       "      <td>Vulkà Bianco</td>\n",
       "      <td>87</td>\n",
       "      <td>NaN</td>\n",
       "      <td>Sicily &amp; Sardinia</td>\n",
       "      <td>Etna</td>\n",
       "      <td>NaN</td>\n",
       "      <td>Kerin O’Keefe</td>\n",
       "      <td>@kerinokeefe</td>\n",
       "      <td>Nicosia 2013 Vulkà Bianco  (Etna)</td>\n",
       "      <td>White Blend</td>\n",
       "      <td>Nicosia</td>\n",
       "    </tr>\n",
       "    <tr>\n",
       "      <th>1</th>\n",
       "      <td>1</td>\n",
       "      <td>Portugal</td>\n",
       "      <td>This is ripe and fruity, a wine that is smooth...</td>\n",
       "      <td>Avidagos</td>\n",
       "      <td>87</td>\n",
       "      <td>15.0</td>\n",
       "      <td>Douro</td>\n",
       "      <td>NaN</td>\n",
       "      <td>NaN</td>\n",
       "      <td>Roger Voss</td>\n",
       "      <td>@vossroger</td>\n",
       "      <td>Quinta dos Avidagos 2011 Avidagos Red (Douro)</td>\n",
       "      <td>Portuguese Red</td>\n",
       "      <td>Quinta dos Avidagos</td>\n",
       "    </tr>\n",
       "    <tr>\n",
       "      <th>2</th>\n",
       "      <td>2</td>\n",
       "      <td>US</td>\n",
       "      <td>Tart and snappy, the flavors of lime flesh and...</td>\n",
       "      <td>NaN</td>\n",
       "      <td>87</td>\n",
       "      <td>14.0</td>\n",
       "      <td>Oregon</td>\n",
       "      <td>Willamette Valley</td>\n",
       "      <td>Willamette Valley</td>\n",
       "      <td>Paul Gregutt</td>\n",
       "      <td>@paulgwine</td>\n",
       "      <td>Rainstorm 2013 Pinot Gris (Willamette Valley)</td>\n",
       "      <td>Pinot Gris</td>\n",
       "      <td>Rainstorm</td>\n",
       "    </tr>\n",
       "    <tr>\n",
       "      <th>3</th>\n",
       "      <td>3</td>\n",
       "      <td>US</td>\n",
       "      <td>Pineapple rind, lemon pith and orange blossom ...</td>\n",
       "      <td>Reserve Late Harvest</td>\n",
       "      <td>87</td>\n",
       "      <td>13.0</td>\n",
       "      <td>Michigan</td>\n",
       "      <td>Lake Michigan Shore</td>\n",
       "      <td>NaN</td>\n",
       "      <td>Alexander Peartree</td>\n",
       "      <td>NaN</td>\n",
       "      <td>St. Julian 2013 Reserve Late Harvest Riesling ...</td>\n",
       "      <td>Riesling</td>\n",
       "      <td>St. Julian</td>\n",
       "    </tr>\n",
       "    <tr>\n",
       "      <th>4</th>\n",
       "      <td>4</td>\n",
       "      <td>US</td>\n",
       "      <td>Much like the regular bottling from 2012, this...</td>\n",
       "      <td>Vintner's Reserve Wild Child Block</td>\n",
       "      <td>87</td>\n",
       "      <td>65.0</td>\n",
       "      <td>Oregon</td>\n",
       "      <td>Willamette Valley</td>\n",
       "      <td>Willamette Valley</td>\n",
       "      <td>Paul Gregutt</td>\n",
       "      <td>@paulgwine</td>\n",
       "      <td>Sweet Cheeks 2012 Vintner's Reserve Wild Child...</td>\n",
       "      <td>Pinot Noir</td>\n",
       "      <td>Sweet Cheeks</td>\n",
       "    </tr>\n",
       "  </tbody>\n",
       "</table>\n",
       "</div>"
      ],
      "text/plain": [
       "   Unnamed: 0   country                                        description  \\\n",
       "0           0     Italy  Aromas include tropical fruit, broom, brimston...   \n",
       "1           1  Portugal  This is ripe and fruity, a wine that is smooth...   \n",
       "2           2        US  Tart and snappy, the flavors of lime flesh and...   \n",
       "3           3        US  Pineapple rind, lemon pith and orange blossom ...   \n",
       "4           4        US  Much like the regular bottling from 2012, this...   \n",
       "\n",
       "                          designation  points  price           province  \\\n",
       "0                        Vulkà Bianco      87    NaN  Sicily & Sardinia   \n",
       "1                            Avidagos      87   15.0              Douro   \n",
       "2                                 NaN      87   14.0             Oregon   \n",
       "3                Reserve Late Harvest      87   13.0           Michigan   \n",
       "4  Vintner's Reserve Wild Child Block      87   65.0             Oregon   \n",
       "\n",
       "              region_1           region_2         taster_name  \\\n",
       "0                 Etna                NaN       Kerin O’Keefe   \n",
       "1                  NaN                NaN          Roger Voss   \n",
       "2    Willamette Valley  Willamette Valley        Paul Gregutt   \n",
       "3  Lake Michigan Shore                NaN  Alexander Peartree   \n",
       "4    Willamette Valley  Willamette Valley        Paul Gregutt   \n",
       "\n",
       "  taster_twitter_handle                                              title  \\\n",
       "0          @kerinokeefe                  Nicosia 2013 Vulkà Bianco  (Etna)   \n",
       "1            @vossroger      Quinta dos Avidagos 2011 Avidagos Red (Douro)   \n",
       "2           @paulgwine       Rainstorm 2013 Pinot Gris (Willamette Valley)   \n",
       "3                   NaN  St. Julian 2013 Reserve Late Harvest Riesling ...   \n",
       "4           @paulgwine   Sweet Cheeks 2012 Vintner's Reserve Wild Child...   \n",
       "\n",
       "          variety               winery  \n",
       "0     White Blend              Nicosia  \n",
       "1  Portuguese Red  Quinta dos Avidagos  \n",
       "2      Pinot Gris            Rainstorm  \n",
       "3        Riesling           St. Julian  \n",
       "4      Pinot Noir         Sweet Cheeks  "
      ]
     },
     "execution_count": 2,
     "metadata": {},
     "output_type": "execute_result"
    }
   ],
   "source": [
    "# Loading dataset\n",
    "df = pd.read_csv('raw_data/winemag-data-130k-v2.csv')\n",
    "df.head()"
   ]
  },
  {
   "cell_type": "code",
   "execution_count": 3,
   "metadata": {},
   "outputs": [
    {
     "data": {
      "text/plain": [
       "(129971, 15)"
      ]
     },
     "execution_count": 3,
     "metadata": {},
     "output_type": "execute_result"
    }
   ],
   "source": [
    "# Extract the year from the 'title' column using regex\n",
    "df['year'] = df['title'].str.extract(r'(\\b\\d{4}\\b)')\n",
    "df.shape"
   ]
  },
  {
   "cell_type": "code",
   "execution_count": 4,
   "metadata": {},
   "outputs": [
    {
     "data": {
      "text/plain": [
       "0"
      ]
     },
     "execution_count": 4,
     "metadata": {},
     "output_type": "execute_result"
    }
   ],
   "source": [
    "# Checking the duplicate row count\n",
    "df.duplicated().sum()"
   ]
  },
  {
   "cell_type": "code",
   "execution_count": 5,
   "metadata": {},
   "outputs": [
    {
     "data": {
      "text/plain": [
       "Unnamed: 0                   0\n",
       "country                     63\n",
       "description                  0\n",
       "designation              37465\n",
       "points                       0\n",
       "price                     8996\n",
       "province                    63\n",
       "region_1                 21247\n",
       "region_2                 79460\n",
       "taster_name              26244\n",
       "taster_twitter_handle    31213\n",
       "title                        0\n",
       "variety                      1\n",
       "winery                       0\n",
       "year                      4609\n",
       "dtype: int64"
      ]
     },
     "execution_count": 5,
     "metadata": {},
     "output_type": "execute_result"
    }
   ],
   "source": [
    "# Checking the NA values in each column\n",
    "df.isna().sum()"
   ]
  },
  {
   "cell_type": "code",
   "execution_count": 6,
   "metadata": {},
   "outputs": [
    {
     "data": {
      "text/plain": [
       "Unnamed: 0               0.000000\n",
       "country                  0.000485\n",
       "description              0.000000\n",
       "designation              0.288257\n",
       "points                   0.000000\n",
       "price                    0.069215\n",
       "province                 0.000485\n",
       "region_1                 0.163475\n",
       "region_2                 0.611367\n",
       "taster_name              0.201922\n",
       "taster_twitter_handle    0.240154\n",
       "title                    0.000000\n",
       "variety                  0.000008\n",
       "winery                   0.000000\n",
       "year                     0.035462\n",
       "dtype: float64"
      ]
     },
     "execution_count": 6,
     "metadata": {},
     "output_type": "execute_result"
    }
   ],
   "source": [
    "# Getting the percentage of missing values. Will drop for columns that are below 1%\n",
    "df.isna().sum()/len(df)"
   ]
  },
  {
   "cell_type": "code",
   "execution_count": 7,
   "metadata": {},
   "outputs": [
    {
     "data": {
      "text/plain": [
       "country           63\n",
       "description        0\n",
       "points             0\n",
       "price           8996\n",
       "province          63\n",
       "region_1       21247\n",
       "title              0\n",
       "variety            1\n",
       "winery             0\n",
       "year            4609\n",
       "dtype: int64"
      ]
     },
     "execution_count": 7,
     "metadata": {},
     "output_type": "execute_result"
    }
   ],
   "source": [
    "# Shape after dropping columns with a lot of missing values\n",
    "df = df.drop(columns=['Unnamed: 0', 'designation','region_2', 'taster_name', 'taster_twitter_handle'])\n",
    "df.isna().sum()"
   ]
  },
  {
   "cell_type": "code",
   "execution_count": 8,
   "metadata": {},
   "outputs": [
    {
     "data": {
      "text/plain": [
       "country            0\n",
       "description        0\n",
       "points             0\n",
       "price           8522\n",
       "province           0\n",
       "region_1       20633\n",
       "title              0\n",
       "variety            0\n",
       "winery             0\n",
       "year               0\n",
       "dtype: int64"
      ]
     },
     "execution_count": 8,
     "metadata": {},
     "output_type": "execute_result"
    }
   ],
   "source": [
    "# Removing rows for columns that are missing small amount of data\n",
    "df = df.dropna(subset=['country', 'province', 'variety', 'year'])\n",
    "df.isna().sum()"
   ]
  },
  {
   "cell_type": "code",
   "execution_count": 9,
   "metadata": {},
   "outputs": [
    {
     "data": {
      "text/plain": [
       "9639"
      ]
     },
     "execution_count": 9,
     "metadata": {},
     "output_type": "execute_result"
    }
   ],
   "source": [
    "# Checking the duplicate rows after clean up\n",
    "df.duplicated().sum()"
   ]
  },
  {
   "cell_type": "code",
   "execution_count": 10,
   "metadata": {},
   "outputs": [
    {
     "data": {
      "text/plain": [
       "0"
      ]
     },
     "execution_count": 10,
     "metadata": {},
     "output_type": "execute_result"
    }
   ],
   "source": [
    "# Removing \n",
    "df = df.drop_duplicates()\n",
    "df.duplicated().sum()"
   ]
  },
  {
   "cell_type": "code",
   "execution_count": 11,
   "metadata": {},
   "outputs": [
    {
     "data": {
      "text/plain": [
       "33"
      ]
     },
     "execution_count": 11,
     "metadata": {},
     "output_type": "execute_result"
    }
   ],
   "source": [
    "# Checking if we have rows that have the exact same description\n",
    "df['description'].duplicated().sum()"
   ]
  },
  {
   "cell_type": "code",
   "execution_count": 12,
   "metadata": {},
   "outputs": [
    {
     "data": {
      "text/plain": [
       "(115661, 10)"
      ]
     },
     "execution_count": 12,
     "metadata": {},
     "output_type": "execute_result"
    }
   ],
   "source": [
    "# Shape before removing duplicate desciptions\n",
    "df.shape"
   ]
  },
  {
   "cell_type": "code",
   "execution_count": 13,
   "metadata": {},
   "outputs": [
    {
     "data": {
      "text/html": [
       "<div>\n",
       "<style scoped>\n",
       "    .dataframe tbody tr th:only-of-type {\n",
       "        vertical-align: middle;\n",
       "    }\n",
       "\n",
       "    .dataframe tbody tr th {\n",
       "        vertical-align: top;\n",
       "    }\n",
       "\n",
       "    .dataframe thead th {\n",
       "        text-align: right;\n",
       "    }\n",
       "</style>\n",
       "<table border=\"1\" class=\"dataframe\">\n",
       "  <thead>\n",
       "    <tr style=\"text-align: right;\">\n",
       "      <th></th>\n",
       "      <th>country</th>\n",
       "      <th>description</th>\n",
       "      <th>points</th>\n",
       "      <th>price</th>\n",
       "      <th>province</th>\n",
       "      <th>region_1</th>\n",
       "      <th>title</th>\n",
       "      <th>variety</th>\n",
       "      <th>winery</th>\n",
       "      <th>year</th>\n",
       "    </tr>\n",
       "  </thead>\n",
       "  <tbody>\n",
       "    <tr>\n",
       "      <th>71853</th>\n",
       "      <td>France</td>\n",
       "      <td>90–92. Barrel sample. This is a solid and dens...</td>\n",
       "      <td>91</td>\n",
       "      <td>NaN</td>\n",
       "      <td>Bordeaux</td>\n",
       "      <td>Moulis-en-Médoc</td>\n",
       "      <td>Château Maucaillou 2012 Barrel Sample  (Moulis...</td>\n",
       "      <td>Bordeaux-style Red Blend</td>\n",
       "      <td>Château Maucaillou</td>\n",
       "      <td>2012</td>\n",
       "    </tr>\n",
       "    <tr>\n",
       "      <th>71851</th>\n",
       "      <td>France</td>\n",
       "      <td>90–92. Barrel sample. This is a solid and dens...</td>\n",
       "      <td>91</td>\n",
       "      <td>NaN</td>\n",
       "      <td>Bordeaux</td>\n",
       "      <td>Margaux</td>\n",
       "      <td>Château Pontac-Lynch 2012 Barrel Sample  (Marg...</td>\n",
       "      <td>Bordeaux-style Red Blend</td>\n",
       "      <td>Château Pontac-Lynch</td>\n",
       "      <td>2012</td>\n",
       "    </tr>\n",
       "    <tr>\n",
       "      <th>105559</th>\n",
       "      <td>France</td>\n",
       "      <td>92–94. Barrel sample. With so much spicy fruit...</td>\n",
       "      <td>93</td>\n",
       "      <td>NaN</td>\n",
       "      <td>Bordeaux</td>\n",
       "      <td>Saint-Julien</td>\n",
       "      <td>Château Gruaud Larose 2012 Barrel Sample  (Sai...</td>\n",
       "      <td>Bordeaux-style Red Blend</td>\n",
       "      <td>Château Gruaud Larose</td>\n",
       "      <td>2012</td>\n",
       "    </tr>\n",
       "    <tr>\n",
       "      <th>105554</th>\n",
       "      <td>France</td>\n",
       "      <td>92–94. Barrel sample. With so much spicy fruit...</td>\n",
       "      <td>93</td>\n",
       "      <td>NaN</td>\n",
       "      <td>Bordeaux</td>\n",
       "      <td>Pauillac</td>\n",
       "      <td>Château Grand-Puy-Lacoste 2012 Barrel Sample  ...</td>\n",
       "      <td>Bordeaux-style Red Blend</td>\n",
       "      <td>Château Grand-Puy-Lacoste</td>\n",
       "      <td>2012</td>\n",
       "    </tr>\n",
       "    <tr>\n",
       "      <th>73905</th>\n",
       "      <td>Italy</td>\n",
       "      <td>Almost too much of a good thing, Passo is a th...</td>\n",
       "      <td>88</td>\n",
       "      <td>35.0</td>\n",
       "      <td>Veneto</td>\n",
       "      <td>Rosso del Veronese</td>\n",
       "      <td>Stefano Accordini 2007 Passo Red (Rosso del Ve...</td>\n",
       "      <td>Red Blend</td>\n",
       "      <td>Stefano Accordini</td>\n",
       "      <td>2007</td>\n",
       "    </tr>\n",
       "    <tr>\n",
       "      <th>...</th>\n",
       "      <td>...</td>\n",
       "      <td>...</td>\n",
       "      <td>...</td>\n",
       "      <td>...</td>\n",
       "      <td>...</td>\n",
       "      <td>...</td>\n",
       "      <td>...</td>\n",
       "      <td>...</td>\n",
       "      <td>...</td>\n",
       "      <td>...</td>\n",
       "    </tr>\n",
       "    <tr>\n",
       "      <th>19269</th>\n",
       "      <td>Italy</td>\n",
       "      <td>This zesty red has pretty aromas that suggest ...</td>\n",
       "      <td>87</td>\n",
       "      <td>30.0</td>\n",
       "      <td>Tuscany</td>\n",
       "      <td>Rosso di Montalcino</td>\n",
       "      <td>Carpineto 2014  Rosso di Montalcino</td>\n",
       "      <td>Sangiovese</td>\n",
       "      <td>Carpineto</td>\n",
       "      <td>2014</td>\n",
       "    </tr>\n",
       "    <tr>\n",
       "      <th>83693</th>\n",
       "      <td>US</td>\n",
       "      <td>Very ripe and forward in baked fruit or pie-fi...</td>\n",
       "      <td>84</td>\n",
       "      <td>45.0</td>\n",
       "      <td>California</td>\n",
       "      <td>Santa Ynez Valley</td>\n",
       "      <td>Sunstone 2006 Syrah (Santa Ynez Valley)</td>\n",
       "      <td>Syrah</td>\n",
       "      <td>Sunstone</td>\n",
       "      <td>2006</td>\n",
       "    </tr>\n",
       "    <tr>\n",
       "      <th>61484</th>\n",
       "      <td>US</td>\n",
       "      <td>Very ripe and forward in baked fruit or pie-fi...</td>\n",
       "      <td>85</td>\n",
       "      <td>48.0</td>\n",
       "      <td>California</td>\n",
       "      <td>Santa Ynez Valley</td>\n",
       "      <td>Sunstone 2006 Reserve Syrah (Santa Ynez Valley)</td>\n",
       "      <td>Syrah</td>\n",
       "      <td>Sunstone</td>\n",
       "      <td>2006</td>\n",
       "    </tr>\n",
       "    <tr>\n",
       "      <th>31584</th>\n",
       "      <td>Italy</td>\n",
       "      <td>Vibrant and spicy, this savory red delivers ar...</td>\n",
       "      <td>90</td>\n",
       "      <td>18.0</td>\n",
       "      <td>Sicily &amp; Sardinia</td>\n",
       "      <td>Cannonau di Sardegna</td>\n",
       "      <td>Argiolas 2013 Costera  (Cannonau di Sardegna)</td>\n",
       "      <td>Red Blend</td>\n",
       "      <td>Argiolas</td>\n",
       "      <td>2013</td>\n",
       "    </tr>\n",
       "    <tr>\n",
       "      <th>21810</th>\n",
       "      <td>Italy</td>\n",
       "      <td>Vibrant and spicy, this savory red delivers ar...</td>\n",
       "      <td>89</td>\n",
       "      <td>14.0</td>\n",
       "      <td>Sicily &amp; Sardinia</td>\n",
       "      <td>Carignano del Sulcis</td>\n",
       "      <td>Cantina Santadi 2012 Grotta Rossa  (Carignano ...</td>\n",
       "      <td>Carignano</td>\n",
       "      <td>Cantina Santadi</td>\n",
       "      <td>2012</td>\n",
       "    </tr>\n",
       "  </tbody>\n",
       "</table>\n",
       "<p>66 rows × 10 columns</p>\n",
       "</div>"
      ],
      "text/plain": [
       "       country                                        description  points  \\\n",
       "71853   France  90–92. Barrel sample. This is a solid and dens...      91   \n",
       "71851   France  90–92. Barrel sample. This is a solid and dens...      91   \n",
       "105559  France  92–94. Barrel sample. With so much spicy fruit...      93   \n",
       "105554  France  92–94. Barrel sample. With so much spicy fruit...      93   \n",
       "73905    Italy  Almost too much of a good thing, Passo is a th...      88   \n",
       "...        ...                                                ...     ...   \n",
       "19269    Italy  This zesty red has pretty aromas that suggest ...      87   \n",
       "83693       US  Very ripe and forward in baked fruit or pie-fi...      84   \n",
       "61484       US  Very ripe and forward in baked fruit or pie-fi...      85   \n",
       "31584    Italy  Vibrant and spicy, this savory red delivers ar...      90   \n",
       "21810    Italy  Vibrant and spicy, this savory red delivers ar...      89   \n",
       "\n",
       "        price           province              region_1  \\\n",
       "71853     NaN           Bordeaux       Moulis-en-Médoc   \n",
       "71851     NaN           Bordeaux               Margaux   \n",
       "105559    NaN           Bordeaux          Saint-Julien   \n",
       "105554    NaN           Bordeaux              Pauillac   \n",
       "73905    35.0             Veneto    Rosso del Veronese   \n",
       "...       ...                ...                   ...   \n",
       "19269    30.0            Tuscany   Rosso di Montalcino   \n",
       "83693    45.0         California     Santa Ynez Valley   \n",
       "61484    48.0         California     Santa Ynez Valley   \n",
       "31584    18.0  Sicily & Sardinia  Cannonau di Sardegna   \n",
       "21810    14.0  Sicily & Sardinia  Carignano del Sulcis   \n",
       "\n",
       "                                                    title  \\\n",
       "71853   Château Maucaillou 2012 Barrel Sample  (Moulis...   \n",
       "71851   Château Pontac-Lynch 2012 Barrel Sample  (Marg...   \n",
       "105559  Château Gruaud Larose 2012 Barrel Sample  (Sai...   \n",
       "105554  Château Grand-Puy-Lacoste 2012 Barrel Sample  ...   \n",
       "73905   Stefano Accordini 2007 Passo Red (Rosso del Ve...   \n",
       "...                                                   ...   \n",
       "19269                 Carpineto 2014  Rosso di Montalcino   \n",
       "83693             Sunstone 2006 Syrah (Santa Ynez Valley)   \n",
       "61484     Sunstone 2006 Reserve Syrah (Santa Ynez Valley)   \n",
       "31584       Argiolas 2013 Costera  (Cannonau di Sardegna)   \n",
       "21810   Cantina Santadi 2012 Grotta Rossa  (Carignano ...   \n",
       "\n",
       "                         variety                     winery  year  \n",
       "71853   Bordeaux-style Red Blend         Château Maucaillou  2012  \n",
       "71851   Bordeaux-style Red Blend       Château Pontac-Lynch  2012  \n",
       "105559  Bordeaux-style Red Blend      Château Gruaud Larose  2012  \n",
       "105554  Bordeaux-style Red Blend  Château Grand-Puy-Lacoste  2012  \n",
       "73905                  Red Blend          Stefano Accordini  2007  \n",
       "...                          ...                        ...   ...  \n",
       "19269                 Sangiovese                  Carpineto  2014  \n",
       "83693                      Syrah                   Sunstone  2006  \n",
       "61484                      Syrah                   Sunstone  2006  \n",
       "31584                  Red Blend                   Argiolas  2013  \n",
       "21810                  Carignano            Cantina Santadi  2012  \n",
       "\n",
       "[66 rows x 10 columns]"
      ]
     },
     "execution_count": 13,
     "metadata": {},
     "output_type": "execute_result"
    }
   ],
   "source": [
    "# Checking the dupe descriptions\n",
    "df[df['description'].duplicated(keep=False)].sort_values(by='description')"
   ]
  },
  {
   "cell_type": "code",
   "execution_count": 14,
   "metadata": {},
   "outputs": [
    {
     "data": {
      "text/plain": [
       "(115595, 10)"
      ]
     },
     "execution_count": 14,
     "metadata": {},
     "output_type": "execute_result"
    }
   ],
   "source": [
    "# Removing every row that has duplicate descriptions\n",
    "dupe_desc = df['description'].duplicated(keep=False)\n",
    "df = df[~dupe_desc]\n",
    "df.shape"
   ]
  },
  {
   "cell_type": "code",
   "execution_count": 15,
   "metadata": {},
   "outputs": [],
   "source": [
    "# Commenting this out because drop_duclicates command will keep the first occuance and we do not want to keep any occurance for the duplicate descriptions\n",
    "\n",
    "#df = df.drop_duplicates(subset='description')\n",
    "#df.shape"
   ]
  },
  {
   "cell_type": "code",
   "execution_count": 16,
   "metadata": {},
   "outputs": [
    {
     "data": {
      "text/plain": [
       "count    115595.000000\n",
       "mean         88.481985\n",
       "std           3.094149\n",
       "min          80.000000\n",
       "25%          86.000000\n",
       "50%          88.000000\n",
       "75%          91.000000\n",
       "max         100.000000\n",
       "Name: points, dtype: float64"
      ]
     },
     "execution_count": 16,
     "metadata": {},
     "output_type": "execute_result"
    }
   ],
   "source": [
    "# Getting the numerical details of the 'points' column\n",
    "df['points'].describe()"
   ]
  },
  {
   "cell_type": "code",
   "execution_count": 17,
   "metadata": {},
   "outputs": [
    {
     "data": {
      "image/png": "[encoded data removed]",
      "text/plain": [
       "<Figure size 640x480 with 1 Axes>"
      ]
     },
     "metadata": {},
     "output_type": "display_data"
    }
   ],
   "source": [
    "# Checking the points column in our dataset using a Histogram\n",
    "# Set custom x-ticks and bins\n",
    "custom_ticks = np.arange(80, 100, 1)\n",
    "point_bins = np.arange(80, 100, 1)\n",
    "plt.hist(df['points'], bins=point_bins, edgecolor='black')\n",
    "plt.xticks(custom_ticks)\n",
    "plt.show()"
   ]
  },
  {
   "cell_type": "code",
   "execution_count": 18,
   "metadata": {},
   "outputs": [],
   "source": [
    "# Creating a DataFrame to fill in empyt price values by getting the average price of wines from same Country, Variety and Wineryr.\n",
    "# If all 3 are not available, then joined using Country and Variety only.\n",
    "price_agg = df.groupby(by=['country', 'variety', 'winery'])['price'].mean().reset_index()\n",
    "price_agg1 = df.groupby(by=['country', 'variety'])['price'].mean().reset_index()\n",
    "price_df = pd.merge(price_agg, price_agg1, on=['country', 'variety'], how='left')"
   ]
  },
  {
   "cell_type": "code",
   "execution_count": 19,
   "metadata": {},
   "outputs": [],
   "source": [
    "# Filling the null values\n",
    "price_df['price_x'] = price_df['price_x'].combine_first(price_df['price_y'])\n",
    "price_df = price_df.drop(columns='price_y')\n",
    "price_df = price_df.rename(columns={'price_x':'fill_price'})"
   ]
  },
  {
   "cell_type": "code",
   "execution_count": 20,
   "metadata": {},
   "outputs": [],
   "source": [
    "# Adding the new column to main DataFrame and replacing missing pricing values\n",
    "df = pd.merge(df, price_df, on=['country', 'variety', 'winery'], how='left')\n",
    "df['price'] = df['price'].combine_first(df['fill_price'])"
   ]
  },
  {
   "cell_type": "code",
   "execution_count": 21,
   "metadata": {},
   "outputs": [
    {
     "data": {
      "text/html": [
       "<div>\n",
       "<style scoped>\n",
       "    .dataframe tbody tr th:only-of-type {\n",
       "        vertical-align: middle;\n",
       "    }\n",
       "\n",
       "    .dataframe tbody tr th {\n",
       "        vertical-align: top;\n",
       "    }\n",
       "\n",
       "    .dataframe thead th {\n",
       "        text-align: right;\n",
       "    }\n",
       "</style>\n",
       "<table border=\"1\" class=\"dataframe\">\n",
       "  <thead>\n",
       "    <tr style=\"text-align: right;\">\n",
       "      <th></th>\n",
       "      <th>country</th>\n",
       "      <th>description</th>\n",
       "      <th>points</th>\n",
       "      <th>price</th>\n",
       "      <th>province</th>\n",
       "      <th>region_1</th>\n",
       "      <th>title</th>\n",
       "      <th>variety</th>\n",
       "      <th>winery</th>\n",
       "      <th>year</th>\n",
       "    </tr>\n",
       "  </thead>\n",
       "  <tbody>\n",
       "    <tr>\n",
       "      <th>0</th>\n",
       "      <td>Italy</td>\n",
       "      <td>Aromas include tropical fruit, broom, brimston...</td>\n",
       "      <td>87</td>\n",
       "      <td>19.0</td>\n",
       "      <td>Sicily &amp; Sardinia</td>\n",
       "      <td>Etna</td>\n",
       "      <td>Nicosia 2013 Vulkà Bianco  (Etna)</td>\n",
       "      <td>White Blend</td>\n",
       "      <td>Nicosia</td>\n",
       "      <td>2013</td>\n",
       "    </tr>\n",
       "    <tr>\n",
       "      <th>1</th>\n",
       "      <td>Portugal</td>\n",
       "      <td>This is ripe and fruity, a wine that is smooth...</td>\n",
       "      <td>87</td>\n",
       "      <td>15.0</td>\n",
       "      <td>Douro</td>\n",
       "      <td>NaN</td>\n",
       "      <td>Quinta dos Avidagos 2011 Avidagos Red (Douro)</td>\n",
       "      <td>Portuguese Red</td>\n",
       "      <td>Quinta dos Avidagos</td>\n",
       "      <td>2011</td>\n",
       "    </tr>\n",
       "    <tr>\n",
       "      <th>2</th>\n",
       "      <td>US</td>\n",
       "      <td>Tart and snappy, the flavors of lime flesh and...</td>\n",
       "      <td>87</td>\n",
       "      <td>14.0</td>\n",
       "      <td>Oregon</td>\n",
       "      <td>Willamette Valley</td>\n",
       "      <td>Rainstorm 2013 Pinot Gris (Willamette Valley)</td>\n",
       "      <td>Pinot Gris</td>\n",
       "      <td>Rainstorm</td>\n",
       "      <td>2013</td>\n",
       "    </tr>\n",
       "    <tr>\n",
       "      <th>3</th>\n",
       "      <td>US</td>\n",
       "      <td>Pineapple rind, lemon pith and orange blossom ...</td>\n",
       "      <td>87</td>\n",
       "      <td>13.0</td>\n",
       "      <td>Michigan</td>\n",
       "      <td>Lake Michigan Shore</td>\n",
       "      <td>St. Julian 2013 Reserve Late Harvest Riesling ...</td>\n",
       "      <td>Riesling</td>\n",
       "      <td>St. Julian</td>\n",
       "      <td>2013</td>\n",
       "    </tr>\n",
       "    <tr>\n",
       "      <th>4</th>\n",
       "      <td>US</td>\n",
       "      <td>Much like the regular bottling from 2012, this...</td>\n",
       "      <td>87</td>\n",
       "      <td>65.0</td>\n",
       "      <td>Oregon</td>\n",
       "      <td>Willamette Valley</td>\n",
       "      <td>Sweet Cheeks 2012 Vintner's Reserve Wild Child...</td>\n",
       "      <td>Pinot Noir</td>\n",
       "      <td>Sweet Cheeks</td>\n",
       "      <td>2012</td>\n",
       "    </tr>\n",
       "  </tbody>\n",
       "</table>\n",
       "</div>"
      ],
      "text/plain": [
       "    country                                        description  points  price  \\\n",
       "0     Italy  Aromas include tropical fruit, broom, brimston...      87   19.0   \n",
       "1  Portugal  This is ripe and fruity, a wine that is smooth...      87   15.0   \n",
       "2        US  Tart and snappy, the flavors of lime flesh and...      87   14.0   \n",
       "3        US  Pineapple rind, lemon pith and orange blossom ...      87   13.0   \n",
       "4        US  Much like the regular bottling from 2012, this...      87   65.0   \n",
       "\n",
       "            province             region_1  \\\n",
       "0  Sicily & Sardinia                 Etna   \n",
       "1              Douro                  NaN   \n",
       "2             Oregon    Willamette Valley   \n",
       "3           Michigan  Lake Michigan Shore   \n",
       "4             Oregon    Willamette Valley   \n",
       "\n",
       "                                               title         variety  \\\n",
       "0                  Nicosia 2013 Vulkà Bianco  (Etna)     White Blend   \n",
       "1      Quinta dos Avidagos 2011 Avidagos Red (Douro)  Portuguese Red   \n",
       "2      Rainstorm 2013 Pinot Gris (Willamette Valley)      Pinot Gris   \n",
       "3  St. Julian 2013 Reserve Late Harvest Riesling ...        Riesling   \n",
       "4  Sweet Cheeks 2012 Vintner's Reserve Wild Child...      Pinot Noir   \n",
       "\n",
       "                winery  year  \n",
       "0              Nicosia  2013  \n",
       "1  Quinta dos Avidagos  2011  \n",
       "2            Rainstorm  2013  \n",
       "3           St. Julian  2013  \n",
       "4         Sweet Cheeks  2012  "
      ]
     },
     "execution_count": 21,
     "metadata": {},
     "output_type": "execute_result"
    }
   ],
   "source": [
    "# Dopping the 'fill_price' column\n",
    "df = df.drop(columns='fill_price')\n",
    "df.head()"
   ]
  },
  {
   "cell_type": "code",
   "execution_count": 22,
   "metadata": {},
   "outputs": [
    {
     "data": {
      "text/plain": [
       "country            0\n",
       "description        0\n",
       "points             0\n",
       "price              0\n",
       "province           0\n",
       "region_1       18970\n",
       "title              0\n",
       "variety            0\n",
       "winery             0\n",
       "year               0\n",
       "dtype: int64"
      ]
     },
     "execution_count": 22,
     "metadata": {},
     "output_type": "execute_result"
    }
   ],
   "source": [
    "# Removing 26 rows with no price info\n",
    "df = df.dropna(subset=['price'])\n",
    "df.isna().sum()"
   ]
  },
  {
   "cell_type": "code",
   "execution_count": 28,
   "metadata": {},
   "outputs": [
    {
     "data": {
      "text/plain": [
       "(115569, 10)"
      ]
     },
     "execution_count": 28,
     "metadata": {},
     "output_type": "execute_result"
    }
   ],
   "source": [
    "df.shape"
   ]
  },
  {
   "cell_type": "code",
   "execution_count": 23,
   "metadata": {},
   "outputs": [
    {
     "data": {
      "text/plain": [
       "count    115569.000000\n",
       "mean         36.834725\n",
       "std          47.614558\n",
       "min           4.000000\n",
       "25%          17.055556\n",
       "50%          26.000000\n",
       "75%          44.000000\n",
       "max        3300.000000\n",
       "Name: price, dtype: float64"
      ]
     },
     "execution_count": 23,
     "metadata": {},
     "output_type": "execute_result"
    }
   ],
   "source": [
    "# Getting the numerical details of the 'points' column\n",
    "df['price'].describe()"
   ]
  },
  {
   "cell_type": "code",
   "execution_count": 24,
   "metadata": {},
   "outputs": [
    {
     "data": {
      "text/plain": [
       "3.2"
      ]
     },
     "execution_count": 24,
     "metadata": {},
     "output_type": "execute_result"
    }
   ],
   "source": [
    "# Checking what percentage of the wines are above 100$ which we will not show in our histogra depending on the outcome for simplicity and treat them like outliers\n",
    "expensive_wines = (df['price']>100).sum()\n",
    "round(expensive_wines/len(df),4)*100"
   ]
  },
  {
   "cell_type": "code",
   "execution_count": 25,
   "metadata": {},
   "outputs": [
    {
     "data": {
      "image/png": "[encoded data removed]",
      "text/plain": [
       "<Figure size 640x480 with 1 Axes>"
      ]
     },
     "metadata": {},
     "output_type": "display_data"
    }
   ],
   "source": [
    "# Checking the price column in our dataset using a Histogram\n",
    "# Setting bins in between 0-100. Excluding values larger than 100 since they only make 3.2% of the dataset.\n",
    "bin_edges = range(0, 101, 10)\n",
    "plt.hist(df['price'], bins=bin_edges, edgecolor='black')\n",
    "plt.show()"
   ]
  },
  {
   "cell_type": "code",
   "execution_count": 27,
   "metadata": {},
   "outputs": [
    {
     "data": {
      "text/plain": [
       "(115569, 10)"
      ]
     },
     "execution_count": 27,
     "metadata": {},
     "output_type": "execute_result"
    }
   ],
   "source": [
    "df.shape"
   ]
  },
  {
   "cell_type": "code",
   "execution_count": 30,
   "metadata": {},
   "outputs": [
    {
     "data": {
      "text/html": [
       "<div>\n",
       "<style scoped>\n",
       "    .dataframe tbody tr th:only-of-type {\n",
       "        vertical-align: middle;\n",
       "    }\n",
       "\n",
       "    .dataframe tbody tr th {\n",
       "        vertical-align: top;\n",
       "    }\n",
       "\n",
       "    .dataframe thead th {\n",
       "        text-align: right;\n",
       "    }\n",
       "</style>\n",
       "<table border=\"1\" class=\"dataframe\">\n",
       "  <thead>\n",
       "    <tr style=\"text-align: right;\">\n",
       "      <th></th>\n",
       "      <th>country</th>\n",
       "      <th>description</th>\n",
       "      <th>points</th>\n",
       "      <th>price</th>\n",
       "      <th>province</th>\n",
       "      <th>region_1</th>\n",
       "      <th>title</th>\n",
       "      <th>variety</th>\n",
       "      <th>winery</th>\n",
       "      <th>year</th>\n",
       "    </tr>\n",
       "  </thead>\n",
       "  <tbody>\n",
       "    <tr>\n",
       "      <th>22567</th>\n",
       "      <td>Italy</td>\n",
       "      <td>This initially opens with funky aromas of barn...</td>\n",
       "      <td>88</td>\n",
       "      <td>41.166667</td>\n",
       "      <td>Piedmont</td>\n",
       "      <td>Barbaresco</td>\n",
       "      <td>Ada Nada 2012 Rombone Elisa  (Barbaresco)</td>\n",
       "      <td>Nebbiolo</td>\n",
       "      <td>Ada Nada</td>\n",
       "      <td>2012</td>\n",
       "    </tr>\n",
       "    <tr>\n",
       "      <th>59283</th>\n",
       "      <td>Italy</td>\n",
       "      <td>Fig, stewed prune, sun baked soil, camphor and...</td>\n",
       "      <td>92</td>\n",
       "      <td>47.000000</td>\n",
       "      <td>Piedmont</td>\n",
       "      <td>Barbaresco</td>\n",
       "      <td>Ada Nada 2012 Rombone Elisa  (Barbaresco)</td>\n",
       "      <td>Nebbiolo</td>\n",
       "      <td>Ada Nada</td>\n",
       "      <td>2012</td>\n",
       "    </tr>\n",
       "    <tr>\n",
       "      <th>87596</th>\n",
       "      <td>Portugal</td>\n",
       "      <td>Soft and rich wine, its perfumes and sweet tan...</td>\n",
       "      <td>87</td>\n",
       "      <td>14.000000</td>\n",
       "      <td>Alentejano</td>\n",
       "      <td>NaN</td>\n",
       "      <td>Adega Cooperativa de Borba 2009 Senses Syrah (...</td>\n",
       "      <td>Syrah</td>\n",
       "      <td>Adega Cooperativa de Borba</td>\n",
       "      <td>2009</td>\n",
       "    </tr>\n",
       "    <tr>\n",
       "      <th>37213</th>\n",
       "      <td>Portugal</td>\n",
       "      <td>For a Syrah, this is soft, offering more of th...</td>\n",
       "      <td>87</td>\n",
       "      <td>13.000000</td>\n",
       "      <td>Alentejano</td>\n",
       "      <td>NaN</td>\n",
       "      <td>Adega Cooperativa de Borba 2009 Senses Syrah (...</td>\n",
       "      <td>Syrah</td>\n",
       "      <td>Adega Cooperativa de Borba</td>\n",
       "      <td>2009</td>\n",
       "    </tr>\n",
       "    <tr>\n",
       "      <th>24483</th>\n",
       "      <td>Portugal</td>\n",
       "      <td>This big and bold wine exudes power and fruiti...</td>\n",
       "      <td>91</td>\n",
       "      <td>14.000000</td>\n",
       "      <td>Tejo</td>\n",
       "      <td>NaN</td>\n",
       "      <td>Adega Cooperativa do Cartaxo 2011 Bridão Reser...</td>\n",
       "      <td>Portuguese Red</td>\n",
       "      <td>Adega Cooperativa do Cartaxo</td>\n",
       "      <td>2011</td>\n",
       "    </tr>\n",
       "    <tr>\n",
       "      <th>...</th>\n",
       "      <td>...</td>\n",
       "      <td>...</td>\n",
       "      <td>...</td>\n",
       "      <td>...</td>\n",
       "      <td>...</td>\n",
       "      <td>...</td>\n",
       "      <td>...</td>\n",
       "      <td>...</td>\n",
       "      <td>...</td>\n",
       "      <td>...</td>\n",
       "    </tr>\n",
       "    <tr>\n",
       "      <th>11234</th>\n",
       "      <td>Italy</td>\n",
       "      <td>This blend of Chardonnay, Sauvignon and Pinot ...</td>\n",
       "      <td>90</td>\n",
       "      <td>24.000000</td>\n",
       "      <td>Northeastern Italy</td>\n",
       "      <td>Collio</td>\n",
       "      <td>Zuani 2011 Vigne White (Collio)</td>\n",
       "      <td>White Blend</td>\n",
       "      <td>Zuani</td>\n",
       "      <td>2011</td>\n",
       "    </tr>\n",
       "    <tr>\n",
       "      <th>13367</th>\n",
       "      <td>France</td>\n",
       "      <td>Lovely notes of Golden Pearmain apple perfume ...</td>\n",
       "      <td>93</td>\n",
       "      <td>58.000000</td>\n",
       "      <td>Alsace</td>\n",
       "      <td>Crémant d'Alsace</td>\n",
       "      <td>Zusslin 2012 Clos Liebenberg Sparkling (Créman...</td>\n",
       "      <td>Sparkling Blend</td>\n",
       "      <td>Zusslin</td>\n",
       "      <td>2012</td>\n",
       "    </tr>\n",
       "    <tr>\n",
       "      <th>76490</th>\n",
       "      <td>France</td>\n",
       "      <td>Exquisitely fragrant notes of ripe, aromatic a...</td>\n",
       "      <td>93</td>\n",
       "      <td>57.000000</td>\n",
       "      <td>Alsace</td>\n",
       "      <td>Crémant d'Alsace</td>\n",
       "      <td>Zusslin 2012 Clos Liebenberg Sparkling (Créman...</td>\n",
       "      <td>Sparkling Blend</td>\n",
       "      <td>Zusslin</td>\n",
       "      <td>2012</td>\n",
       "    </tr>\n",
       "    <tr>\n",
       "      <th>29987</th>\n",
       "      <td>US</td>\n",
       "      <td>You can smell the extreme alcohol level on thi...</td>\n",
       "      <td>82</td>\n",
       "      <td>37.000000</td>\n",
       "      <td>California</td>\n",
       "      <td>Santa Barbara County</td>\n",
       "      <td>a-non-ah-mus 2010 Alisos Vineyard Syrah (Santa...</td>\n",
       "      <td>Syrah</td>\n",
       "      <td>a-non-ah-mus</td>\n",
       "      <td>2010</td>\n",
       "    </tr>\n",
       "    <tr>\n",
       "      <th>5767</th>\n",
       "      <td>US</td>\n",
       "      <td>This very floral and herbally tinged bottling ...</td>\n",
       "      <td>87</td>\n",
       "      <td>37.000000</td>\n",
       "      <td>California</td>\n",
       "      <td>Santa Barbara County</td>\n",
       "      <td>a-non-ah-mus 2010 Alisos Vineyard Syrah (Santa...</td>\n",
       "      <td>Syrah</td>\n",
       "      <td>a-non-ah-mus</td>\n",
       "      <td>2010</td>\n",
       "    </tr>\n",
       "  </tbody>\n",
       "</table>\n",
       "<p>948 rows × 10 columns</p>\n",
       "</div>"
      ],
      "text/plain": [
       "        country                                        description  points  \\\n",
       "22567     Italy  This initially opens with funky aromas of barn...      88   \n",
       "59283     Italy  Fig, stewed prune, sun baked soil, camphor and...      92   \n",
       "87596  Portugal  Soft and rich wine, its perfumes and sweet tan...      87   \n",
       "37213  Portugal  For a Syrah, this is soft, offering more of th...      87   \n",
       "24483  Portugal  This big and bold wine exudes power and fruiti...      91   \n",
       "...         ...                                                ...     ...   \n",
       "11234     Italy  This blend of Chardonnay, Sauvignon and Pinot ...      90   \n",
       "13367    France  Lovely notes of Golden Pearmain apple perfume ...      93   \n",
       "76490    France  Exquisitely fragrant notes of ripe, aromatic a...      93   \n",
       "29987        US  You can smell the extreme alcohol level on thi...      82   \n",
       "5767         US  This very floral and herbally tinged bottling ...      87   \n",
       "\n",
       "           price            province              region_1  \\\n",
       "22567  41.166667            Piedmont            Barbaresco   \n",
       "59283  47.000000            Piedmont            Barbaresco   \n",
       "87596  14.000000          Alentejano                   NaN   \n",
       "37213  13.000000          Alentejano                   NaN   \n",
       "24483  14.000000                Tejo                   NaN   \n",
       "...          ...                 ...                   ...   \n",
       "11234  24.000000  Northeastern Italy                Collio   \n",
       "13367  58.000000              Alsace      Crémant d'Alsace   \n",
       "76490  57.000000              Alsace      Crémant d'Alsace   \n",
       "29987  37.000000          California  Santa Barbara County   \n",
       "5767   37.000000          California  Santa Barbara County   \n",
       "\n",
       "                                                   title          variety  \\\n",
       "22567          Ada Nada 2012 Rombone Elisa  (Barbaresco)         Nebbiolo   \n",
       "59283          Ada Nada 2012 Rombone Elisa  (Barbaresco)         Nebbiolo   \n",
       "87596  Adega Cooperativa de Borba 2009 Senses Syrah (...            Syrah   \n",
       "37213  Adega Cooperativa de Borba 2009 Senses Syrah (...            Syrah   \n",
       "24483  Adega Cooperativa do Cartaxo 2011 Bridão Reser...   Portuguese Red   \n",
       "...                                                  ...              ...   \n",
       "11234                    Zuani 2011 Vigne White (Collio)      White Blend   \n",
       "13367  Zusslin 2012 Clos Liebenberg Sparkling (Créman...  Sparkling Blend   \n",
       "76490  Zusslin 2012 Clos Liebenberg Sparkling (Créman...  Sparkling Blend   \n",
       "29987  a-non-ah-mus 2010 Alisos Vineyard Syrah (Santa...            Syrah   \n",
       "5767   a-non-ah-mus 2010 Alisos Vineyard Syrah (Santa...            Syrah   \n",
       "\n",
       "                             winery  year  \n",
       "22567                      Ada Nada  2012  \n",
       "59283                      Ada Nada  2012  \n",
       "87596    Adega Cooperativa de Borba  2009  \n",
       "37213    Adega Cooperativa de Borba  2009  \n",
       "24483  Adega Cooperativa do Cartaxo  2011  \n",
       "...                             ...   ...  \n",
       "11234                         Zuani  2011  \n",
       "13367                       Zusslin  2012  \n",
       "76490                       Zusslin  2012  \n",
       "29987                  a-non-ah-mus  2010  \n",
       "5767                   a-non-ah-mus  2010  \n",
       "\n",
       "[948 rows x 10 columns]"
      ]
     },
     "execution_count": 30,
     "metadata": {},
     "output_type": "execute_result"
    }
   ],
   "source": [
    "df[df['title'].duplicated(keep=False)].sort_values(by='title')"
   ]
  },
  {
   "cell_type": "code",
   "execution_count": 31,
   "metadata": {},
   "outputs": [
    {
     "data": {
      "text/plain": [
       "(114621, 10)"
      ]
     },
     "execution_count": 31,
     "metadata": {},
     "output_type": "execute_result"
    }
   ],
   "source": [
    "# Removing every row that has duplicate descriptions\n",
    "dupe_title = df['title'].duplicated(keep=False)\n",
    "df = df[~dupe_title]\n",
    "df.shape"
   ]
  },
  {
   "cell_type": "code",
   "execution_count": 33,
   "metadata": {},
   "outputs": [
    {
     "data": {
      "text/plain": [
       "0.4371"
      ]
     },
     "execution_count": 33,
     "metadata": {},
     "output_type": "execute_result"
    }
   ],
   "source": [
    "# Will most likely not need it but 43% of our province data is made out of 'Other'\n",
    "other_province = (df['province']=='Other').sum()\n",
    "round(other_province/len(df)*100,4)"
   ]
  },
  {
   "cell_type": "code",
   "execution_count": 34,
   "metadata": {},
   "outputs": [
    {
     "data": {
      "text/html": [
       "<div>\n",
       "<style scoped>\n",
       "    .dataframe tbody tr th:only-of-type {\n",
       "        vertical-align: middle;\n",
       "    }\n",
       "\n",
       "    .dataframe tbody tr th {\n",
       "        vertical-align: top;\n",
       "    }\n",
       "\n",
       "    .dataframe thead th {\n",
       "        text-align: right;\n",
       "    }\n",
       "</style>\n",
       "<table border=\"1\" class=\"dataframe\">\n",
       "  <thead>\n",
       "    <tr style=\"text-align: right;\">\n",
       "      <th></th>\n",
       "      <th>country</th>\n",
       "      <th>description</th>\n",
       "      <th>points</th>\n",
       "      <th>price</th>\n",
       "      <th>province</th>\n",
       "      <th>region_1</th>\n",
       "      <th>title</th>\n",
       "      <th>variety</th>\n",
       "      <th>winery</th>\n",
       "      <th>year</th>\n",
       "    </tr>\n",
       "  </thead>\n",
       "  <tbody>\n",
       "    <tr>\n",
       "      <th>0</th>\n",
       "      <td>Italy</td>\n",
       "      <td>Aromas include tropical fruit, broom, brimston...</td>\n",
       "      <td>87</td>\n",
       "      <td>19.0</td>\n",
       "      <td>Sicily &amp; Sardinia</td>\n",
       "      <td>Etna</td>\n",
       "      <td>Nicosia 2013 Vulkà Bianco  (Etna)</td>\n",
       "      <td>White Blend</td>\n",
       "      <td>Nicosia</td>\n",
       "      <td>2013</td>\n",
       "    </tr>\n",
       "    <tr>\n",
       "      <th>1</th>\n",
       "      <td>Portugal</td>\n",
       "      <td>This is ripe and fruity, a wine that is smooth...</td>\n",
       "      <td>87</td>\n",
       "      <td>15.0</td>\n",
       "      <td>Douro</td>\n",
       "      <td>NaN</td>\n",
       "      <td>Quinta dos Avidagos 2011 Avidagos Red (Douro)</td>\n",
       "      <td>Portuguese Red</td>\n",
       "      <td>Quinta dos Avidagos</td>\n",
       "      <td>2011</td>\n",
       "    </tr>\n",
       "    <tr>\n",
       "      <th>2</th>\n",
       "      <td>US</td>\n",
       "      <td>Tart and snappy, the flavors of lime flesh and...</td>\n",
       "      <td>87</td>\n",
       "      <td>14.0</td>\n",
       "      <td>Oregon</td>\n",
       "      <td>Willamette Valley</td>\n",
       "      <td>Rainstorm 2013 Pinot Gris (Willamette Valley)</td>\n",
       "      <td>Pinot Gris</td>\n",
       "      <td>Rainstorm</td>\n",
       "      <td>2013</td>\n",
       "    </tr>\n",
       "    <tr>\n",
       "      <th>3</th>\n",
       "      <td>US</td>\n",
       "      <td>Pineapple rind, lemon pith and orange blossom ...</td>\n",
       "      <td>87</td>\n",
       "      <td>13.0</td>\n",
       "      <td>Michigan</td>\n",
       "      <td>Lake Michigan Shore</td>\n",
       "      <td>St. Julian 2013 Reserve Late Harvest Riesling ...</td>\n",
       "      <td>Riesling</td>\n",
       "      <td>St. Julian</td>\n",
       "      <td>2013</td>\n",
       "    </tr>\n",
       "    <tr>\n",
       "      <th>4</th>\n",
       "      <td>US</td>\n",
       "      <td>Much like the regular bottling from 2012, this...</td>\n",
       "      <td>87</td>\n",
       "      <td>65.0</td>\n",
       "      <td>Oregon</td>\n",
       "      <td>Willamette Valley</td>\n",
       "      <td>Sweet Cheeks 2012 Vintner's Reserve Wild Child...</td>\n",
       "      <td>Pinot Noir</td>\n",
       "      <td>Sweet Cheeks</td>\n",
       "      <td>2012</td>\n",
       "    </tr>\n",
       "  </tbody>\n",
       "</table>\n",
       "</div>"
      ],
      "text/plain": [
       "    country                                        description  points  price  \\\n",
       "0     Italy  Aromas include tropical fruit, broom, brimston...      87   19.0   \n",
       "1  Portugal  This is ripe and fruity, a wine that is smooth...      87   15.0   \n",
       "2        US  Tart and snappy, the flavors of lime flesh and...      87   14.0   \n",
       "3        US  Pineapple rind, lemon pith and orange blossom ...      87   13.0   \n",
       "4        US  Much like the regular bottling from 2012, this...      87   65.0   \n",
       "\n",
       "            province             region_1  \\\n",
       "0  Sicily & Sardinia                 Etna   \n",
       "1              Douro                  NaN   \n",
       "2             Oregon    Willamette Valley   \n",
       "3           Michigan  Lake Michigan Shore   \n",
       "4             Oregon    Willamette Valley   \n",
       "\n",
       "                                               title         variety  \\\n",
       "0                  Nicosia 2013 Vulkà Bianco  (Etna)     White Blend   \n",
       "1      Quinta dos Avidagos 2011 Avidagos Red (Douro)  Portuguese Red   \n",
       "2      Rainstorm 2013 Pinot Gris (Willamette Valley)      Pinot Gris   \n",
       "3  St. Julian 2013 Reserve Late Harvest Riesling ...        Riesling   \n",
       "4  Sweet Cheeks 2012 Vintner's Reserve Wild Child...      Pinot Noir   \n",
       "\n",
       "                winery  year  \n",
       "0              Nicosia  2013  \n",
       "1  Quinta dos Avidagos  2011  \n",
       "2            Rainstorm  2013  \n",
       "3           St. Julian  2013  \n",
       "4         Sweet Cheeks  2012  "
      ]
     },
     "execution_count": 34,
     "metadata": {},
     "output_type": "execute_result"
    }
   ],
   "source": [
    "df.head()"
   ]
  }
 ],
 "metadata": {
  "kernelspec": {
   "display_name": "vino_verdict",
   "language": "python",
   "name": "python3"
  },
  "language_info": {
   "codemirror_mode": {
    "name": "ipython",
    "version": 3
   },
   "file_extension": ".py",
   "mimetype": "text/x-python",
   "name": "python",
   "nbconvert_exporter": "python",
   "pygments_lexer": "ipython3",
   "version": "3.10.6"
  },
  "orig_nbformat": 4
 },
 "nbformat": 4,
 "nbformat_minor": 2
}
