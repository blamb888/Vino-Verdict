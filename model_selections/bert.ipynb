{
 "cells": [
  {
   "cell_type": "markdown",
   "metadata": {},
   "source": [
    "1. Install and Import Dependencies  "
   ]
  },
  {
   "cell_type": "code",
   "execution_count": 1,
   "metadata": {},
   "outputs": [
    {
     "name": "stdout",
     "output_type": "stream",
     "text": [
      "Requirement already satisfied: torch in /home/unix_blamb/.pyenv/versions/3.10.6/envs/vino_verdict/lib/python3.10/site-packages (2.0.1)\n",
      "Requirement already satisfied: torchvision in /home/unix_blamb/.pyenv/versions/3.10.6/envs/vino_verdict/lib/python3.10/site-packages (0.15.2)\n",
      "Requirement already satisfied: torchaudio in /home/unix_blamb/.pyenv/versions/3.10.6/envs/vino_verdict/lib/python3.10/site-packages (2.0.2)\n",
      "Requirement already satisfied: filelock in /home/unix_blamb/.pyenv/versions/3.10.6/envs/vino_verdict/lib/python3.10/site-packages (from torch) (3.12.2)\n",
      "Requirement already satisfied: typing-extensions in /home/unix_blamb/.pyenv/versions/3.10.6/envs/vino_verdict/lib/python3.10/site-packages (from torch) (4.7.1)\n",
      "Requirement already satisfied: sympy in /home/unix_blamb/.pyenv/versions/3.10.6/envs/vino_verdict/lib/python3.10/site-packages (from torch) (1.12)\n",
      "Requirement already satisfied: networkx in /home/unix_blamb/.pyenv/versions/3.10.6/envs/vino_verdict/lib/python3.10/site-packages (from torch) (3.1)\n",
      "Requirement already satisfied: jinja2 in /home/unix_blamb/.pyenv/versions/3.10.6/envs/vino_verdict/lib/python3.10/site-packages (from torch) (3.1.2)\n",
      "Requirement already satisfied: nvidia-cuda-nvrtc-cu11==11.7.99 in /home/unix_blamb/.pyenv/versions/3.10.6/envs/vino_verdict/lib/python3.10/site-packages (from torch) (11.7.99)\n",
      "Requirement already satisfied: nvidia-cuda-runtime-cu11==11.7.99 in /home/unix_blamb/.pyenv/versions/3.10.6/envs/vino_verdict/lib/python3.10/site-packages (from torch) (11.7.99)\n",
      "Requirement already satisfied: nvidia-cuda-cupti-cu11==11.7.101 in /home/unix_blamb/.pyenv/versions/3.10.6/envs/vino_verdict/lib/python3.10/site-packages (from torch) (11.7.101)\n",
      "Requirement already satisfied: nvidia-cudnn-cu11==8.5.0.96 in /home/unix_blamb/.pyenv/versions/3.10.6/envs/vino_verdict/lib/python3.10/site-packages (from torch) (8.5.0.96)\n",
      "Requirement already satisfied: nvidia-cublas-cu11==11.10.3.66 in /home/unix_blamb/.pyenv/versions/3.10.6/envs/vino_verdict/lib/python3.10/site-packages (from torch) (11.10.3.66)\n",
      "Requirement already satisfied: nvidia-cufft-cu11==10.9.0.58 in /home/unix_blamb/.pyenv/versions/3.10.6/envs/vino_verdict/lib/python3.10/site-packages (from torch) (10.9.0.58)\n",
      "Requirement already satisfied: nvidia-curand-cu11==10.2.10.91 in /home/unix_blamb/.pyenv/versions/3.10.6/envs/vino_verdict/lib/python3.10/site-packages (from torch) (10.2.10.91)\n",
      "Requirement already satisfied: nvidia-cusolver-cu11==11.4.0.1 in /home/unix_blamb/.pyenv/versions/3.10.6/envs/vino_verdict/lib/python3.10/site-packages (from torch) (11.4.0.1)\n",
      "Requirement already satisfied: nvidia-cusparse-cu11==11.7.4.91 in /home/unix_blamb/.pyenv/versions/3.10.6/envs/vino_verdict/lib/python3.10/site-packages (from torch) (11.7.4.91)\n",
      "Requirement already satisfied: nvidia-nccl-cu11==2.14.3 in /home/unix_blamb/.pyenv/versions/3.10.6/envs/vino_verdict/lib/python3.10/site-packages (from torch) (2.14.3)\n",
      "Requirement already satisfied: nvidia-nvtx-cu11==11.7.91 in /home/unix_blamb/.pyenv/versions/3.10.6/envs/vino_verdict/lib/python3.10/site-packages (from torch) (11.7.91)\n",
      "Requirement already satisfied: triton==2.0.0 in /home/unix_blamb/.pyenv/versions/3.10.6/envs/vino_verdict/lib/python3.10/site-packages (from torch) (2.0.0)\n",
      "Requirement already satisfied: setuptools in /home/unix_blamb/.pyenv/versions/3.10.6/envs/vino_verdict/lib/python3.10/site-packages (from nvidia-cublas-cu11==11.10.3.66->torch) (63.2.0)\n",
      "Requirement already satisfied: wheel in /home/unix_blamb/.pyenv/versions/3.10.6/envs/vino_verdict/lib/python3.10/site-packages (from nvidia-cublas-cu11==11.10.3.66->torch) (0.41.0)\n",
      "Requirement already satisfied: cmake in /home/unix_blamb/.pyenv/versions/3.10.6/envs/vino_verdict/lib/python3.10/site-packages (from triton==2.0.0->torch) (3.27.0)\n",
      "Requirement already satisfied: lit in /home/unix_blamb/.pyenv/versions/3.10.6/envs/vino_verdict/lib/python3.10/site-packages (from triton==2.0.0->torch) (16.0.6)\n",
      "Requirement already satisfied: numpy in /home/unix_blamb/.pyenv/versions/3.10.6/envs/vino_verdict/lib/python3.10/site-packages (from torchvision) (1.25.2)\n",
      "Requirement already satisfied: requests in /home/unix_blamb/.pyenv/versions/3.10.6/envs/vino_verdict/lib/python3.10/site-packages (from torchvision) (2.31.0)\n",
      "Requirement already satisfied: pillow!=8.3.*,>=5.3.0 in /home/unix_blamb/.pyenv/versions/3.10.6/envs/vino_verdict/lib/python3.10/site-packages (from torchvision) (10.0.0)\n",
      "Requirement already satisfied: MarkupSafe>=2.0 in /home/unix_blamb/.pyenv/versions/3.10.6/envs/vino_verdict/lib/python3.10/site-packages (from jinja2->torch) (2.1.3)\n",
      "Requirement already satisfied: charset-normalizer<4,>=2 in /home/unix_blamb/.pyenv/versions/3.10.6/envs/vino_verdict/lib/python3.10/site-packages (from requests->torchvision) (3.2.0)\n",
      "Requirement already satisfied: idna<4,>=2.5 in /home/unix_blamb/.pyenv/versions/3.10.6/envs/vino_verdict/lib/python3.10/site-packages (from requests->torchvision) (3.4)\n",
      "Requirement already satisfied: urllib3<3,>=1.21.1 in /home/unix_blamb/.pyenv/versions/3.10.6/envs/vino_verdict/lib/python3.10/site-packages (from requests->torchvision) (2.0.4)\n",
      "Requirement already satisfied: certifi>=2017.4.17 in /home/unix_blamb/.pyenv/versions/3.10.6/envs/vino_verdict/lib/python3.10/site-packages (from requests->torchvision) (2023.7.22)\n",
      "Requirement already satisfied: mpmath>=0.19 in /home/unix_blamb/.pyenv/versions/3.10.6/envs/vino_verdict/lib/python3.10/site-packages (from sympy->torch) (1.3.0)\n"
     ]
    }
   ],
   "source": [
    "!pip install torch torchvision torchaudio"
   ]
  },
  {
   "cell_type": "code",
   "execution_count": 2,
   "metadata": {},
   "outputs": [
    {
     "name": "stdout",
     "output_type": "stream",
     "text": [
      "Requirement already satisfied: transformers in /home/unix_blamb/.pyenv/versions/3.10.6/envs/vino_verdict/lib/python3.10/site-packages (4.31.0)\n",
      "Requirement already satisfied: requests in /home/unix_blamb/.pyenv/versions/3.10.6/envs/vino_verdict/lib/python3.10/site-packages (2.31.0)\n",
      "Requirement already satisfied: beautifulsoup4 in /home/unix_blamb/.pyenv/versions/3.10.6/envs/vino_verdict/lib/python3.10/site-packages (4.12.2)\n",
      "Requirement already satisfied: pandas in /home/unix_blamb/.pyenv/versions/3.10.6/envs/vino_verdict/lib/python3.10/site-packages (2.0.3)\n",
      "Requirement already satisfied: numpy in /home/unix_blamb/.pyenv/versions/3.10.6/envs/vino_verdict/lib/python3.10/site-packages (1.25.2)\n",
      "Requirement already satisfied: torch in /home/unix_blamb/.pyenv/versions/3.10.6/envs/vino_verdict/lib/python3.10/site-packages (2.0.1)\n",
      "Requirement already satisfied: filelock in /home/unix_blamb/.pyenv/versions/3.10.6/envs/vino_verdict/lib/python3.10/site-packages (from transformers) (3.12.2)\n",
      "Requirement already satisfied: huggingface-hub<1.0,>=0.14.1 in /home/unix_blamb/.pyenv/versions/3.10.6/envs/vino_verdict/lib/python3.10/site-packages (from transformers) (0.16.4)\n",
      "Requirement already satisfied: packaging>=20.0 in /home/unix_blamb/.pyenv/versions/3.10.6/envs/vino_verdict/lib/python3.10/site-packages (from transformers) (23.1)\n",
      "Requirement already satisfied: pyyaml>=5.1 in /home/unix_blamb/.pyenv/versions/3.10.6/envs/vino_verdict/lib/python3.10/site-packages (from transformers) (6.0.1)\n",
      "Requirement already satisfied: regex!=2019.12.17 in /home/unix_blamb/.pyenv/versions/3.10.6/envs/vino_verdict/lib/python3.10/site-packages (from transformers) (2023.6.3)\n",
      "Requirement already satisfied: tokenizers!=0.11.3,<0.14,>=0.11.1 in /home/unix_blamb/.pyenv/versions/3.10.6/envs/vino_verdict/lib/python3.10/site-packages (from transformers) (0.13.3)\n",
      "Requirement already satisfied: safetensors>=0.3.1 in /home/unix_blamb/.pyenv/versions/3.10.6/envs/vino_verdict/lib/python3.10/site-packages (from transformers) (0.3.1)\n",
      "Requirement already satisfied: tqdm>=4.27 in /home/unix_blamb/.pyenv/versions/3.10.6/envs/vino_verdict/lib/python3.10/site-packages (from transformers) (4.65.0)\n",
      "Requirement already satisfied: charset-normalizer<4,>=2 in /home/unix_blamb/.pyenv/versions/3.10.6/envs/vino_verdict/lib/python3.10/site-packages (from requests) (3.2.0)\n",
      "Requirement already satisfied: idna<4,>=2.5 in /home/unix_blamb/.pyenv/versions/3.10.6/envs/vino_verdict/lib/python3.10/site-packages (from requests) (3.4)\n",
      "Requirement already satisfied: urllib3<3,>=1.21.1 in /home/unix_blamb/.pyenv/versions/3.10.6/envs/vino_verdict/lib/python3.10/site-packages (from requests) (2.0.4)\n",
      "Requirement already satisfied: certifi>=2017.4.17 in /home/unix_blamb/.pyenv/versions/3.10.6/envs/vino_verdict/lib/python3.10/site-packages (from requests) (2023.7.22)\n",
      "Requirement already satisfied: soupsieve>1.2 in /home/unix_blamb/.pyenv/versions/3.10.6/envs/vino_verdict/lib/python3.10/site-packages (from beautifulsoup4) (2.4.1)\n",
      "Requirement already satisfied: python-dateutil>=2.8.2 in /home/unix_blamb/.pyenv/versions/3.10.6/envs/vino_verdict/lib/python3.10/site-packages (from pandas) (2.8.2)\n",
      "Requirement already satisfied: pytz>=2020.1 in /home/unix_blamb/.pyenv/versions/3.10.6/envs/vino_verdict/lib/python3.10/site-packages (from pandas) (2023.3)\n",
      "Requirement already satisfied: tzdata>=2022.1 in /home/unix_blamb/.pyenv/versions/3.10.6/envs/vino_verdict/lib/python3.10/site-packages (from pandas) (2023.3)\n",
      "Requirement already satisfied: typing-extensions in /home/unix_blamb/.pyenv/versions/3.10.6/envs/vino_verdict/lib/python3.10/site-packages (from torch) (4.7.1)\n",
      "Requirement already satisfied: sympy in /home/unix_blamb/.pyenv/versions/3.10.6/envs/vino_verdict/lib/python3.10/site-packages (from torch) (1.12)\n",
      "Requirement already satisfied: networkx in /home/unix_blamb/.pyenv/versions/3.10.6/envs/vino_verdict/lib/python3.10/site-packages (from torch) (3.1)\n",
      "Requirement already satisfied: jinja2 in /home/unix_blamb/.pyenv/versions/3.10.6/envs/vino_verdict/lib/python3.10/site-packages (from torch) (3.1.2)\n",
      "Requirement already satisfied: nvidia-cuda-nvrtc-cu11==11.7.99 in /home/unix_blamb/.pyenv/versions/3.10.6/envs/vino_verdict/lib/python3.10/site-packages (from torch) (11.7.99)\n",
      "Requirement already satisfied: nvidia-cuda-runtime-cu11==11.7.99 in /home/unix_blamb/.pyenv/versions/3.10.6/envs/vino_verdict/lib/python3.10/site-packages (from torch) (11.7.99)\n",
      "Requirement already satisfied: nvidia-cuda-cupti-cu11==11.7.101 in /home/unix_blamb/.pyenv/versions/3.10.6/envs/vino_verdict/lib/python3.10/site-packages (from torch) (11.7.101)\n",
      "Requirement already satisfied: nvidia-cudnn-cu11==8.5.0.96 in /home/unix_blamb/.pyenv/versions/3.10.6/envs/vino_verdict/lib/python3.10/site-packages (from torch) (8.5.0.96)\n",
      "Requirement already satisfied: nvidia-cublas-cu11==11.10.3.66 in /home/unix_blamb/.pyenv/versions/3.10.6/envs/vino_verdict/lib/python3.10/site-packages (from torch) (11.10.3.66)\n",
      "Requirement already satisfied: nvidia-cufft-cu11==10.9.0.58 in /home/unix_blamb/.pyenv/versions/3.10.6/envs/vino_verdict/lib/python3.10/site-packages (from torch) (10.9.0.58)\n",
      "Requirement already satisfied: nvidia-curand-cu11==10.2.10.91 in /home/unix_blamb/.pyenv/versions/3.10.6/envs/vino_verdict/lib/python3.10/site-packages (from torch) (10.2.10.91)\n",
      "Requirement already satisfied: nvidia-cusolver-cu11==11.4.0.1 in /home/unix_blamb/.pyenv/versions/3.10.6/envs/vino_verdict/lib/python3.10/site-packages (from torch) (11.4.0.1)\n",
      "Requirement already satisfied: nvidia-cusparse-cu11==11.7.4.91 in /home/unix_blamb/.pyenv/versions/3.10.6/envs/vino_verdict/lib/python3.10/site-packages (from torch) (11.7.4.91)\n",
      "Requirement already satisfied: nvidia-nccl-cu11==2.14.3 in /home/unix_blamb/.pyenv/versions/3.10.6/envs/vino_verdict/lib/python3.10/site-packages (from torch) (2.14.3)\n",
      "Requirement already satisfied: nvidia-nvtx-cu11==11.7.91 in /home/unix_blamb/.pyenv/versions/3.10.6/envs/vino_verdict/lib/python3.10/site-packages (from torch) (11.7.91)\n",
      "Requirement already satisfied: triton==2.0.0 in /home/unix_blamb/.pyenv/versions/3.10.6/envs/vino_verdict/lib/python3.10/site-packages (from torch) (2.0.0)\n",
      "Requirement already satisfied: setuptools in /home/unix_blamb/.pyenv/versions/3.10.6/envs/vino_verdict/lib/python3.10/site-packages (from nvidia-cublas-cu11==11.10.3.66->torch) (63.2.0)\n",
      "Requirement already satisfied: wheel in /home/unix_blamb/.pyenv/versions/3.10.6/envs/vino_verdict/lib/python3.10/site-packages (from nvidia-cublas-cu11==11.10.3.66->torch) (0.41.0)\n",
      "Requirement already satisfied: cmake in /home/unix_blamb/.pyenv/versions/3.10.6/envs/vino_verdict/lib/python3.10/site-packages (from triton==2.0.0->torch) (3.27.0)\n",
      "Requirement already satisfied: lit in /home/unix_blamb/.pyenv/versions/3.10.6/envs/vino_verdict/lib/python3.10/site-packages (from triton==2.0.0->torch) (16.0.6)\n",
      "Requirement already satisfied: fsspec in /home/unix_blamb/.pyenv/versions/3.10.6/envs/vino_verdict/lib/python3.10/site-packages (from huggingface-hub<1.0,>=0.14.1->transformers) (2023.6.0)\n",
      "Requirement already satisfied: six>=1.5 in /home/unix_blamb/.pyenv/versions/3.10.6/envs/vino_verdict/lib/python3.10/site-packages (from python-dateutil>=2.8.2->pandas) (1.16.0)\n",
      "Requirement already satisfied: MarkupSafe>=2.0 in /home/unix_blamb/.pyenv/versions/3.10.6/envs/vino_verdict/lib/python3.10/site-packages (from jinja2->torch) (2.1.3)\n",
      "Requirement already satisfied: mpmath>=0.19 in /home/unix_blamb/.pyenv/versions/3.10.6/envs/vino_verdict/lib/python3.10/site-packages (from sympy->torch) (1.3.0)\n"
     ]
    }
   ],
   "source": [
    "!pip install transformers requests beautifulsoup4 pandas numpy torch"
   ]
  },
  {
   "cell_type": "code",
   "execution_count": 3,
   "metadata": {},
   "outputs": [
    {
     "name": "stderr",
     "output_type": "stream",
     "text": [
      "/home/unix_blamb/.pyenv/versions/3.10.6/envs/vino_verdict/lib/python3.10/site-packages/tqdm/auto.py:21: TqdmWarning: IProgress not found. Please update jupyter and ipywidgets. See https://ipywidgets.readthedocs.io/en/stable/user_install.html\n",
      "  from .autonotebook import tqdm as notebook_tqdm\n"
     ]
    }
   ],
   "source": [
    "from transformers import AutoTokenizer, AutoModelForSequenceClassification\n",
    "import torch\n",
    "import requests\n",
    "from bs4 import BeautifulSoup\n",
    "import re\n",
    "import pandas as pd\n",
    "import numpy as np"
   ]
  },
  {
   "cell_type": "markdown",
   "metadata": {},
   "source": [
    "2. Instantiate Model    "
   ]
  },
  {
   "cell_type": "code",
   "execution_count": 4,
   "metadata": {},
   "outputs": [],
   "source": [
    "tokenizer = AutoTokenizer.from_pretrained(\"nlptown/bert-base-multilingual-uncased-sentiment\")\n",
    "\n",
    "model = AutoModelForSequenceClassification.from_pretrained(\"nlptown/bert-base-multilingual-uncased-sentiment\")"
   ]
  },
  {
   "cell_type": "markdown",
   "metadata": {},
   "source": [
    "3. Encode & Calculate Sentiment"
   ]
  },
  {
   "cell_type": "code",
   "execution_count": 5,
   "metadata": {},
   "outputs": [
    {
     "data": {
      "text/html": [
       "<div>\n",
       "<style scoped>\n",
       "    .dataframe tbody tr th:only-of-type {\n",
       "        vertical-align: middle;\n",
       "    }\n",
       "\n",
       "    .dataframe tbody tr th {\n",
       "        vertical-align: top;\n",
       "    }\n",
       "\n",
       "    .dataframe thead th {\n",
       "        text-align: right;\n",
       "    }\n",
       "</style>\n",
       "<table border=\"1\" class=\"dataframe\">\n",
       "  <thead>\n",
       "    <tr style=\"text-align: right;\">\n",
       "      <th></th>\n",
       "      <th>Unnamed: 0</th>\n",
       "      <th>country</th>\n",
       "      <th>description</th>\n",
       "      <th>designation</th>\n",
       "      <th>points</th>\n",
       "      <th>price</th>\n",
       "      <th>province</th>\n",
       "      <th>region_1</th>\n",
       "      <th>region_2</th>\n",
       "      <th>taster_name</th>\n",
       "      <th>taster_twitter_handle</th>\n",
       "      <th>title</th>\n",
       "      <th>variety</th>\n",
       "      <th>winery</th>\n",
       "    </tr>\n",
       "  </thead>\n",
       "  <tbody>\n",
       "    <tr>\n",
       "      <th>0</th>\n",
       "      <td>0</td>\n",
       "      <td>Italy</td>\n",
       "      <td>Aromas include tropical fruit, broom, brimston...</td>\n",
       "      <td>Vulkà Bianco</td>\n",
       "      <td>87</td>\n",
       "      <td>NaN</td>\n",
       "      <td>Sicily &amp; Sardinia</td>\n",
       "      <td>Etna</td>\n",
       "      <td>NaN</td>\n",
       "      <td>Kerin O’Keefe</td>\n",
       "      <td>@kerinokeefe</td>\n",
       "      <td>Nicosia 2013 Vulkà Bianco  (Etna)</td>\n",
       "      <td>White Blend</td>\n",
       "      <td>Nicosia</td>\n",
       "    </tr>\n",
       "    <tr>\n",
       "      <th>1</th>\n",
       "      <td>1</td>\n",
       "      <td>Portugal</td>\n",
       "      <td>This is ripe and fruity, a wine that is smooth...</td>\n",
       "      <td>Avidagos</td>\n",
       "      <td>87</td>\n",
       "      <td>15.0</td>\n",
       "      <td>Douro</td>\n",
       "      <td>NaN</td>\n",
       "      <td>NaN</td>\n",
       "      <td>Roger Voss</td>\n",
       "      <td>@vossroger</td>\n",
       "      <td>Quinta dos Avidagos 2011 Avidagos Red (Douro)</td>\n",
       "      <td>Portuguese Red</td>\n",
       "      <td>Quinta dos Avidagos</td>\n",
       "    </tr>\n",
       "    <tr>\n",
       "      <th>2</th>\n",
       "      <td>2</td>\n",
       "      <td>US</td>\n",
       "      <td>Tart and snappy, the flavors of lime flesh and...</td>\n",
       "      <td>NaN</td>\n",
       "      <td>87</td>\n",
       "      <td>14.0</td>\n",
       "      <td>Oregon</td>\n",
       "      <td>Willamette Valley</td>\n",
       "      <td>Willamette Valley</td>\n",
       "      <td>Paul Gregutt</td>\n",
       "      <td>@paulgwine</td>\n",
       "      <td>Rainstorm 2013 Pinot Gris (Willamette Valley)</td>\n",
       "      <td>Pinot Gris</td>\n",
       "      <td>Rainstorm</td>\n",
       "    </tr>\n",
       "  </tbody>\n",
       "</table>\n",
       "</div>"
      ],
      "text/plain": [
       "   Unnamed: 0   country                                        description  \\\n",
       "0           0     Italy  Aromas include tropical fruit, broom, brimston...   \n",
       "1           1  Portugal  This is ripe and fruity, a wine that is smooth...   \n",
       "2           2        US  Tart and snappy, the flavors of lime flesh and...   \n",
       "\n",
       "    designation  points  price           province           region_1  \\\n",
       "0  Vulkà Bianco      87    NaN  Sicily & Sardinia               Etna   \n",
       "1      Avidagos      87   15.0              Douro                NaN   \n",
       "2           NaN      87   14.0             Oregon  Willamette Valley   \n",
       "\n",
       "            region_2    taster_name taster_twitter_handle  \\\n",
       "0                NaN  Kerin O’Keefe          @kerinokeefe   \n",
       "1                NaN     Roger Voss            @vossroger   \n",
       "2  Willamette Valley   Paul Gregutt           @paulgwine    \n",
       "\n",
       "                                           title         variety  \\\n",
       "0              Nicosia 2013 Vulkà Bianco  (Etna)     White Blend   \n",
       "1  Quinta dos Avidagos 2011 Avidagos Red (Douro)  Portuguese Red   \n",
       "2  Rainstorm 2013 Pinot Gris (Willamette Valley)      Pinot Gris   \n",
       "\n",
       "                winery  \n",
       "0              Nicosia  \n",
       "1  Quinta dos Avidagos  \n",
       "2            Rainstorm  "
      ]
     },
     "execution_count": 5,
     "metadata": {},
     "output_type": "execute_result"
    }
   ],
   "source": [
    "df2 = pd.read_csv('../raw_data/vino_verdict_raw_data/winemag-data-130k-v2.csv')\n",
    "df_sorted = df2.sort_values('points', ascending=True)\n",
    "df2.head(3)"
   ]
  },
  {
   "cell_type": "code",
   "execution_count": 6,
   "metadata": {},
   "outputs": [
    {
     "data": {
      "text/html": [
       "<div>\n",
       "<style scoped>\n",
       "    .dataframe tbody tr th:only-of-type {\n",
       "        vertical-align: middle;\n",
       "    }\n",
       "\n",
       "    .dataframe tbody tr th {\n",
       "        vertical-align: top;\n",
       "    }\n",
       "\n",
       "    .dataframe thead th {\n",
       "        text-align: right;\n",
       "    }\n",
       "</style>\n",
       "<table border=\"1\" class=\"dataframe\">\n",
       "  <thead>\n",
       "    <tr style=\"text-align: right;\">\n",
       "      <th></th>\n",
       "      <th>Unnamed: 0</th>\n",
       "      <th>country</th>\n",
       "      <th>description</th>\n",
       "      <th>designation</th>\n",
       "      <th>points</th>\n",
       "      <th>price</th>\n",
       "      <th>province</th>\n",
       "      <th>region_1</th>\n",
       "      <th>region_2</th>\n",
       "      <th>variety</th>\n",
       "      <th>winery</th>\n",
       "    </tr>\n",
       "  </thead>\n",
       "  <tbody>\n",
       "    <tr>\n",
       "      <th>0</th>\n",
       "      <td>0</td>\n",
       "      <td>US</td>\n",
       "      <td>This tremendous 100% varietal wine hails from ...</td>\n",
       "      <td>Martha's Vineyard</td>\n",
       "      <td>96</td>\n",
       "      <td>235.0</td>\n",
       "      <td>California</td>\n",
       "      <td>Napa Valley</td>\n",
       "      <td>Napa</td>\n",
       "      <td>Cabernet Sauvignon</td>\n",
       "      <td>Heitz</td>\n",
       "    </tr>\n",
       "    <tr>\n",
       "      <th>1</th>\n",
       "      <td>1</td>\n",
       "      <td>Spain</td>\n",
       "      <td>Ripe aromas of fig, blackberry and cassis are ...</td>\n",
       "      <td>Carodorum Selección Especial Reserva</td>\n",
       "      <td>96</td>\n",
       "      <td>110.0</td>\n",
       "      <td>Northern Spain</td>\n",
       "      <td>Toro</td>\n",
       "      <td>NaN</td>\n",
       "      <td>Tinta de Toro</td>\n",
       "      <td>Bodega Carmen Rodríguez</td>\n",
       "    </tr>\n",
       "    <tr>\n",
       "      <th>2</th>\n",
       "      <td>2</td>\n",
       "      <td>US</td>\n",
       "      <td>Mac Watson honors the memory of a wine once ma...</td>\n",
       "      <td>Special Selected Late Harvest</td>\n",
       "      <td>96</td>\n",
       "      <td>90.0</td>\n",
       "      <td>California</td>\n",
       "      <td>Knights Valley</td>\n",
       "      <td>Sonoma</td>\n",
       "      <td>Sauvignon Blanc</td>\n",
       "      <td>Macauley</td>\n",
       "    </tr>\n",
       "  </tbody>\n",
       "</table>\n",
       "</div>"
      ],
      "text/plain": [
       "   Unnamed: 0 country                                        description  \\\n",
       "0           0      US  This tremendous 100% varietal wine hails from ...   \n",
       "1           1   Spain  Ripe aromas of fig, blackberry and cassis are ...   \n",
       "2           2      US  Mac Watson honors the memory of a wine once ma...   \n",
       "\n",
       "                            designation  points  price        province  \\\n",
       "0                     Martha's Vineyard      96  235.0      California   \n",
       "1  Carodorum Selección Especial Reserva      96  110.0  Northern Spain   \n",
       "2         Special Selected Late Harvest      96   90.0      California   \n",
       "\n",
       "         region_1 region_2             variety                   winery  \n",
       "0     Napa Valley     Napa  Cabernet Sauvignon                    Heitz  \n",
       "1            Toro      NaN       Tinta de Toro  Bodega Carmen Rodríguez  \n",
       "2  Knights Valley   Sonoma     Sauvignon Blanc                 Macauley  "
      ]
     },
     "execution_count": 6,
     "metadata": {},
     "output_type": "execute_result"
    }
   ],
   "source": [
    "df1 = pd.read_csv('../raw_data/vino_verdict_raw_data/winemag-data_first150k.csv')\n",
    "df_sorted = df1.sort_values('points', ascending=True)\n",
    "df1.head(3)"
   ]
  },
  {
   "cell_type": "code",
   "execution_count": 7,
   "metadata": {},
   "outputs": [],
   "source": [
    "description_01 = df1.loc[0, 'description']\n",
    "description_02 = df2.loc[0, 'description']"
   ]
  },
  {
   "cell_type": "code",
   "execution_count": 8,
   "metadata": {},
   "outputs": [],
   "source": [
    "tokens1 = tokenizer.encode(description_01, return_tensors='pt')\n",
    "tokens2 = tokenizer.encode(description_02, return_tensors='pt')"
   ]
  },
  {
   "cell_type": "code",
   "execution_count": 9,
   "metadata": {},
   "outputs": [
    {
     "data": {
      "text/plain": [
       "tensor([[  101, 10372, 11555, 11719, 23097, 10107, 10445,   110, 65896, 10159,\n",
       "         28312, 91810, 10107, 10195, 26195, 12378, 10110, 10140, 29213, 10323,\n",
       "         10916, 10868, 10104, 26195,   119, 12955, 38469, 10452,   118, 35862,\n",
       "         25527, 10110,   143, 85065, 61318, 18885, 10123, 10108, 15281, 20229,\n",
       "         50565, 10337, 10103, 55543, 10218,   117, 27177, 10163, 10151, 80768,\n",
       "           117, 12922, 12022, 11978, 10107, 10110,   143, 13241, 21601, 14581,\n",
       "         10158, 27433, 10104, 10103, 23158,   119, 31117, 10163, 10110, 92306,\n",
       "         10285, 10195, 13982, 10114, 24919,   117, 10197, 10438, 10868, 29293,\n",
       "         10108, 10197, 10114, 26514, 14194, 22537, 12897,   119, 61530, 73786,\n",
       "           100, 73688,   119,   102]])"
      ]
     },
     "execution_count": 9,
     "metadata": {},
     "output_type": "execute_result"
    }
   ],
   "source": [
    "tokens1"
   ]
  },
  {
   "cell_type": "code",
   "execution_count": 10,
   "metadata": {},
   "outputs": [
    {
     "data": {
      "text/plain": [
       "tensor([[  101, 10133, 47517, 12622, 10754, 25527,   117, 26895, 10785,   117,\n",
       "         18710, 73460, 19298, 10110, 16008, 10163, 33482,   119, 10103, 55543,\n",
       "         10218, 65148,   112,   162, 10323, 10563, 16061, 12899,   117, 39646,\n",
       "         10119, 56523, 28415, 17006,   117, 72356, 10110, 16008, 10163, 34939,\n",
       "         24485, 18710, 14623, 20557, 12705,   119,   102]])"
      ]
     },
     "execution_count": 10,
     "metadata": {},
     "output_type": "execute_result"
    }
   ],
   "source": [
    "tokens2"
   ]
  },
  {
   "cell_type": "code",
   "execution_count": 11,
   "metadata": {},
   "outputs": [
    {
     "data": {
      "text/plain": [
       "'[CLS] this tremendous 100 % varietal wine hails from oakville and was aged over three years in oak. juicy red - cherry fruit and a compelling hint of caramel greet the palate, framed by elegant, fine tannins and a subtle minty tone in the background. balanced and rewarding from start to finish, it has years ahead of it to develop further nuance. enjoy 2022 [UNK] 2030. [SEP]'"
      ]
     },
     "execution_count": 11,
     "metadata": {},
     "output_type": "execute_result"
    }
   ],
   "source": [
    "tokenizer.decode(tokens1[0])"
   ]
  },
  {
   "cell_type": "code",
   "execution_count": 12,
   "metadata": {},
   "outputs": [
    {
     "data": {
      "text/plain": [
       "\"[CLS] aromas include tropical fruit, broom, brimstone and dried herb. the palate isn't overly expressive, offering unripened apple, citrus and dried sage alongside brisk acidity. [SEP]\""
      ]
     },
     "execution_count": 12,
     "metadata": {},
     "output_type": "execute_result"
    }
   ],
   "source": [
    "tokenizer.decode(tokens2[0])"
   ]
  },
  {
   "cell_type": "code",
   "execution_count": 13,
   "metadata": {},
   "outputs": [
    {
     "data": {
      "text/plain": [
       "SequenceClassifierOutput(loss=None, logits=tensor([[-2.8863, -2.8505, -1.5543,  1.7217,  4.4777]],\n",
       "       grad_fn=<AddmmBackward0>), hidden_states=None, attentions=None)"
      ]
     },
     "execution_count": 13,
     "metadata": {},
     "output_type": "execute_result"
    }
   ],
   "source": [
    "result1 = model(tokens1)\n",
    "result1"
   ]
  },
  {
   "cell_type": "code",
   "execution_count": 14,
   "metadata": {},
   "outputs": [
    {
     "data": {
      "text/plain": [
       "SequenceClassifierOutput(loss=None, logits=tensor([[ 0.1272,  2.1047,  2.0085, -0.4567, -2.9758]],\n",
       "       grad_fn=<AddmmBackward0>), hidden_states=None, attentions=None)"
      ]
     },
     "execution_count": 14,
     "metadata": {},
     "output_type": "execute_result"
    }
   ],
   "source": [
    "result2 = model(tokens2)\n",
    "result2"
   ]
  },
  {
   "cell_type": "code",
   "execution_count": 15,
   "metadata": {},
   "outputs": [
    {
     "name": "stdout",
     "output_type": "stream",
     "text": [
      "The resulting sentiment for the first wine is:  5\n",
      "The resulting sentiment for the first wine is:  2\n"
     ]
    }
   ],
   "source": [
    "print(f\"The resulting sentiment for the first wine is: \", int(torch.argmax(result1.logits))+1)\n",
    "print(f\"The resulting sentiment for the first wine is: \", int(torch.argmax(result2.logits))+1)\n",
    "\n",
    "# Can add some logic to add +1 to scores of 0 or less"
   ]
  },
  {
   "cell_type": "markdown",
   "metadata": {},
   "source": [
    "4. Load Reviews DF and Score DF"
   ]
  },
  {
   "cell_type": "code",
   "execution_count": 16,
   "metadata": {},
   "outputs": [],
   "source": [
    "device = torch.device(\"cuda\" if torch.cuda.is_available() else \"cpu\")\n",
    "model = model.to(device)"
   ]
  },
  {
   "cell_type": "code",
   "execution_count": 21,
   "metadata": {},
   "outputs": [],
   "source": [
    "def sentiment_score(row):\n",
    "    tokens = tokenizer.encode_plus(row['description'], \n",
    "                                   max_length=512, \n",
    "                                   truncation=True, \n",
    "                                   padding='max_length', \n",
    "                                   return_tensors='pt')\n",
    "    input_ids = tokens['input_ids'].to(device)\n",
    "    attention_mask = tokens['attention_mask'].to(device)\n",
    "    result = model(input_ids, attention_mask=attention_mask)\n",
    "    return int(torch.argmax(result.logits))+1"
   ]
  },
  {
   "cell_type": "code",
   "execution_count": 25,
   "metadata": {},
   "outputs": [],
   "source": [
    "# copy the first 10 rows\n",
    "df_first_10 = df1.head(10).copy()\n",
    "\n",
    "# apply the function to the copied dataframe\n",
    "df_first_10['sentiment_score'] = df_first_10.apply(sentiment_score, axis=1)\n",
    "\n",
    "# now concatenate with the rest of the dataframe\n",
    "df1 = pd.concat([df_first_10, df1.iloc[10:]])"
   ]
  },
  {
   "cell_type": "code",
   "execution_count": 26,
   "metadata": {},
   "outputs": [
    {
     "data": {
      "text/html": [
       "<div>\n",
       "<style scoped>\n",
       "    .dataframe tbody tr th:only-of-type {\n",
       "        vertical-align: middle;\n",
       "    }\n",
       "\n",
       "    .dataframe tbody tr th {\n",
       "        vertical-align: top;\n",
       "    }\n",
       "\n",
       "    .dataframe thead th {\n",
       "        text-align: right;\n",
       "    }\n",
       "</style>\n",
       "<table border=\"1\" class=\"dataframe\">\n",
       "  <thead>\n",
       "    <tr style=\"text-align: right;\">\n",
       "      <th></th>\n",
       "      <th>Unnamed: 0</th>\n",
       "      <th>country</th>\n",
       "      <th>description</th>\n",
       "      <th>designation</th>\n",
       "      <th>points</th>\n",
       "      <th>price</th>\n",
       "      <th>province</th>\n",
       "      <th>region_1</th>\n",
       "      <th>region_2</th>\n",
       "      <th>variety</th>\n",
       "      <th>winery</th>\n",
       "      <th>sentiment_score</th>\n",
       "    </tr>\n",
       "  </thead>\n",
       "  <tbody>\n",
       "    <tr>\n",
       "      <th>0</th>\n",
       "      <td>0</td>\n",
       "      <td>US</td>\n",
       "      <td>This tremendous 100% varietal wine hails from ...</td>\n",
       "      <td>Martha's Vineyard</td>\n",
       "      <td>96</td>\n",
       "      <td>235.0</td>\n",
       "      <td>California</td>\n",
       "      <td>Napa Valley</td>\n",
       "      <td>Napa</td>\n",
       "      <td>Cabernet Sauvignon</td>\n",
       "      <td>Heitz</td>\n",
       "      <td>5</td>\n",
       "    </tr>\n",
       "    <tr>\n",
       "      <th>1</th>\n",
       "      <td>1</td>\n",
       "      <td>Spain</td>\n",
       "      <td>Ripe aromas of fig, blackberry and cassis are ...</td>\n",
       "      <td>Carodorum Selección Especial Reserva</td>\n",
       "      <td>96</td>\n",
       "      <td>110.0</td>\n",
       "      <td>Northern Spain</td>\n",
       "      <td>Toro</td>\n",
       "      <td>NaN</td>\n",
       "      <td>Tinta de Toro</td>\n",
       "      <td>Bodega Carmen Rodríguez</td>\n",
       "      <td>5</td>\n",
       "    </tr>\n",
       "    <tr>\n",
       "      <th>2</th>\n",
       "      <td>2</td>\n",
       "      <td>US</td>\n",
       "      <td>Mac Watson honors the memory of a wine once ma...</td>\n",
       "      <td>Special Selected Late Harvest</td>\n",
       "      <td>96</td>\n",
       "      <td>90.0</td>\n",
       "      <td>California</td>\n",
       "      <td>Knights Valley</td>\n",
       "      <td>Sonoma</td>\n",
       "      <td>Sauvignon Blanc</td>\n",
       "      <td>Macauley</td>\n",
       "      <td>5</td>\n",
       "    </tr>\n",
       "  </tbody>\n",
       "</table>\n",
       "</div>"
      ],
      "text/plain": [
       "   Unnamed: 0 country                                        description  \\\n",
       "0           0      US  This tremendous 100% varietal wine hails from ...   \n",
       "1           1   Spain  Ripe aromas of fig, blackberry and cassis are ...   \n",
       "2           2      US  Mac Watson honors the memory of a wine once ma...   \n",
       "\n",
       "                            designation  points  price        province  \\\n",
       "0                     Martha's Vineyard      96  235.0      California   \n",
       "1  Carodorum Selección Especial Reserva      96  110.0  Northern Spain   \n",
       "2         Special Selected Late Harvest      96   90.0      California   \n",
       "\n",
       "         region_1 region_2             variety                   winery  \\\n",
       "0     Napa Valley     Napa  Cabernet Sauvignon                    Heitz   \n",
       "1            Toro      NaN       Tinta de Toro  Bodega Carmen Rodríguez   \n",
       "2  Knights Valley   Sonoma     Sauvignon Blanc                 Macauley   \n",
       "\n",
       "   sentiment_score  \n",
       "0                5  \n",
       "1                5  \n",
       "2                5  "
      ]
     },
     "execution_count": 26,
     "metadata": {},
     "output_type": "execute_result"
    }
   ],
   "source": [
    "df1.head(3)"
   ]
  },
  {
   "cell_type": "code",
   "execution_count": null,
   "metadata": {},
   "outputs": [],
   "source": []
  }
 ],
 "metadata": {
  "kernelspec": {
   "display_name": "vino_verdict",
   "language": "python",
   "name": "python3"
  },
  "language_info": {
   "codemirror_mode": {
    "name": "ipython",
    "version": 3
   },
   "file_extension": ".py",
   "mimetype": "text/x-python",
   "name": "python",
   "nbconvert_exporter": "python",
   "pygments_lexer": "ipython3",
   "version": "3.10.6"
  },
  "orig_nbformat": 4
 },
 "nbformat": 4,
 "nbformat_minor": 2
}
